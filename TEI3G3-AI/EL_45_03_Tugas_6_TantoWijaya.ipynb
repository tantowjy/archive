{
 "cells": [
  {
   "cell_type": "code",
   "execution_count": 1,
   "metadata": {
    "colab": {
     "base_uri": "https://localhost:8080/"
    },
    "id": "sfAGuQbpFZSL",
    "outputId": "4547c938-efe4-4964-f418-2dcf1b20c988"
   },
   "outputs": [
    {
     "name": "stdout",
     "output_type": "stream",
     "text": [
      "NIM : 1102213211\n",
      "Nama: Tanto Wijaya\n",
      "PROBLEM 1 - OR\n",
      "[0.80279717]\n"
     ]
    }
   ],
   "source": [
    "# Identitas Mahasiswa\n",
    "print(\"NIM : 1102213211\")\n",
    "print(\"Nama: Tanto Wijaya\")\n",
    "print(\"PROBLEM 1 - OR\")\n",
    "\n",
    "# importing dependancies\n",
    "import numpy as np\n",
    "\n",
    "# The activation function\n",
    "def activation(x):\n",
    "    return 1 / (1 + np.exp(-x))\n",
    "\n",
    "# A 2 x 1 matrix of randomly generated weights in the range -1 to 1\n",
    "weights = np.random.uniform(-1,1,size = (2, 1))\n",
    "\n",
    "# The training set divided into input and output. Notice that\n",
    "# we are trying to train our neural network to predict the output\n",
    "# of the logical OR.\n",
    "training_inputs = np.array([[0, 0, 1, 1, 0, 1]]).reshape(3, 2)\n",
    "training_outputs = np.array([[0, 1, 1]]).reshape(3,1)\n",
    "\n",
    "for i in range(15000):\n",
    "    # forward pass\n",
    "    dot_product = np.dot(training_inputs, weights)\n",
    "    output = activation(dot_product)\n",
    "    # backward pass.\n",
    "    temp2 = -(training_outputs - output) * output * (1 - output)\n",
    "    adj = np.dot(training_inputs.transpose(), temp2)\n",
    "    # 0.5 is the learning rate.\n",
    "    weights = weights - 0.5 * adj\n",
    "    \n",
    "# The testing set\n",
    "test_input = np.array([1, 0])\n",
    "test_output = activation(np.dot(test_input, weights))\n",
    "# OR of 1, 0 is 1\n",
    "print(test_output)"
   ]
  },
  {
   "cell_type": "code",
   "execution_count": 3,
   "metadata": {
    "colab": {
     "base_uri": "https://localhost:8080/"
    },
    "id": "0PlifwjVmK9G",
    "outputId": "083f431f-f983-4734-fc35-42b85b7e8ad0"
   },
   "outputs": [
    {
     "name": "stdout",
     "output_type": "stream",
     "text": [
      "NIM : 1102213211\n",
      "Nama: Tanto Wijaya\n",
      "PROBLEM 2 - AND\n",
      "[0.99982314]\n"
     ]
    }
   ],
   "source": [
    "# Identitas Mahasiswa\n",
    "print(\"NIM : 1102213211\")\n",
    "print(\"Nama: Tanto Wijaya\")\n",
    "print(\"PROBLEM 2 - AND\")\n",
    "\n",
    "# importing dependancies\n",
    "import numpy as np\n",
    "\n",
    "# The activation function\n",
    "def activation(x):\n",
    "    return 1 / (1 + np.exp(-x))\n",
    "\n",
    "# A 2 x 1 matrix of randomly generated weights in the range -1 to 1\n",
    "weights = np.random.uniform(-1,1,size = (2, 1))\n",
    "\n",
    "# The training set divided into input and output. Notice that\n",
    "# we are trying to train our neural network to predict the output\n",
    "# of the logical AND.\n",
    "training_inputs = np.array([[0, 0, 1, 1, 0, 1]]).reshape(3, 2)\n",
    "training_outputs = np.array([[0, 1, 0]]).reshape(3,1)\n",
    "\n",
    "for i in range(15000):\n",
    "    # forward pass\n",
    "    dot_product = np.dot(training_inputs, weights)\n",
    "    output = activation(dot_product)\n",
    "    # backward pass.\n",
    "    temp2 = -(training_outputs - output) * output * (1 - output)\n",
    "    adj = np.dot(training_inputs.transpose(), temp2)\n",
    "    # 0.5 is the learning rate.\n",
    "    weights = weights - 0.5 * adj\n",
    "    \n",
    "# The testing set\n",
    "test_input = np.array([1, 0])\n",
    "test_output = activation(np.dot(test_input, weights))\n",
    "# AND of 1, 0 is 0\n",
    "print(test_output)"
   ]
  }
 ],
 "metadata": {
  "colab": {
   "provenance": []
  },
  "kernelspec": {
   "display_name": "Python 3 (ipykernel)",
   "language": "python",
   "name": "python3"
  },
  "language_info": {
   "codemirror_mode": {
    "name": "ipython",
    "version": 3
   },
   "file_extension": ".py",
   "mimetype": "text/x-python",
   "name": "python",
   "nbconvert_exporter": "python",
   "pygments_lexer": "ipython3",
   "version": "3.11.4"
  }
 },
 "nbformat": 4,
 "nbformat_minor": 4
}
