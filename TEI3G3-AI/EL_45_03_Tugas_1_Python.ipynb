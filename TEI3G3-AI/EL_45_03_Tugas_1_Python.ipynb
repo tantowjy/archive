{
 "cells": [
  {
   "cell_type": "code",
   "execution_count": null,
   "id": "2fd0f850-2229-4279-ab63-ba475fb5dcb7",
   "metadata": {},
   "outputs": [],
   "source": [
    "\"\"\"\n",
    "TUGAS 1 PEMROGRAMAN PYTHON\n",
    "Nama           : Tanto Wijaya\n",
    "Kelas          : EL-45-03\n",
    "Mata Kuliah    : Kecerdasan Buatan\n",
    "Python version : 3.11.4\n",
    "\"\"\""
   ]
  },
  {
   "cell_type": "code",
   "execution_count": 23,
   "id": "027fdfeb-0cc5-4797-895f-af28f35c5a1f",
   "metadata": {},
   "outputs": [
    {
     "name": "stdout",
     "output_type": "stream",
     "text": [
      "1102213211_TantoWijaya\n",
      "Hi, Tugas 1 Mata Kuliah Kecerdasan Buatan\n"
     ]
    }
   ],
   "source": [
    "print('1102213211_TantoWijaya')\n",
    "# Example Number 1: Mencetak teks\n",
    "\n",
    "print('Hi, Tugas 1 Mata Kuliah Kecerdasan Buatan')"
   ]
  },
  {
   "cell_type": "code",
   "execution_count": 24,
   "id": "033370e0-843b-4929-a9b6-43a5e9f48f43",
   "metadata": {},
   "outputs": [
    {
     "name": "stdout",
     "output_type": "stream",
     "text": [
      "1102213211_TantoWijaya\n",
      "Penjumlahan 4.5 dan 3.9 adalah 8.4\n"
     ]
    }
   ],
   "source": [
    "print('1102213211_TantoWijaya')\n",
    "# Example Number 2: Penjumlahan 2 angka\n",
    "\n",
    "num1 = 4.5\n",
    "num2 = 3.9\n",
    "\n",
    "sum = num1 + num2\n",
    "\n",
    "print('Penjumlahan {0} dan {1} adalah {2}'.format(num1, num2, sum))"
   ]
  },
  {
   "cell_type": "code",
   "execution_count": 25,
   "id": "4cef332f-8b99-4787-b39c-b6afa537b93e",
   "metadata": {},
   "outputs": [
    {
     "name": "stdout",
     "output_type": "stream",
     "text": [
      "1102213211_TantoWijaya\n",
      "Akar dari 16.00 adalah 4.00\n"
     ]
    }
   ],
   "source": [
    "print('1102213211_TantoWijaya')\n",
    "# Example Number 3: Mencari Akar dari suatu bilangan\n",
    "\n",
    "num = 16\n",
    "\n",
    "num_sqrt = num ** 0.5\n",
    "\n",
    "print('Akar dari %0.2f adalah %0.2f' %(num, num_sqrt));"
   ]
  },
  {
   "cell_type": "code",
   "execution_count": 34,
   "id": "dee93da2-dc3c-4eaf-8d83-94ecb30935fe",
   "metadata": {},
   "outputs": [
    {
     "name": "stdout",
     "output_type": "stream",
     "text": [
      "1102213211_TantoWijaya\n"
     ]
    },
    {
     "name": "stdin",
     "output_type": "stream",
     "text": [
      "Masukan sisi pertama:  7\n",
      "Masukan sisi kedua:  9\n",
      "Masukan sisi ketiga:  11\n"
     ]
    },
    {
     "name": "stdout",
     "output_type": "stream",
     "text": [
      "Luas segitiga adalah 31.42\n"
     ]
    }
   ],
   "source": [
    "print('1102213211_TantoWijaya')\n",
    "# Example Number 4: Mencari Luas Segitiga\n",
    "\n",
    "# masukan sisi-sisi segitiga\n",
    "a = float(input('Masukan sisi pertama: '))\n",
    "b = float(input('Masukan sisi kedua: '))\n",
    "c = float(input('Masukan sisi ketiga: '))\n",
    "\n",
    "# menghitung semi-perimeter\n",
    "s = (a + b + c) / 2 \n",
    "\n",
    "# menghitung luas segitiga\n",
    "area = (s*(s-a)*(s-b)*(s-c)) ** 0.5\n",
    "\n",
    "print('Luas segitiga adalah %0.2f' %area)"
   ]
  },
  {
   "cell_type": "code",
   "execution_count": 35,
   "id": "c8293186-f4de-4526-a234-1bdabbe0fda4",
   "metadata": {},
   "outputs": [
    {
     "name": "stdout",
     "output_type": "stream",
     "text": [
      "1102213211_TantoWijaya\n",
      "Solusinya adalah (-3+0j) dan (-2+0j)\n"
     ]
    }
   ],
   "source": [
    "print('1102213211_TantoWijaya')\n",
    "# Example Number 5: Persamaan Kuadrat ax**2 + bx + c = 0\n",
    "\n",
    "# import complex math module\n",
    "import cmath\n",
    "\n",
    "a = 1\n",
    "b = 5\n",
    "c = 6\n",
    "\n",
    "# menghitung diskriminan\n",
    "d = (b**2) - (4*a*c) \n",
    "\n",
    "# mencari 2 solusi\n",
    "sol1 = (-b-cmath.sqrt(d))/(2*a)\n",
    "sol2 = (-b+cmath.sqrt(d))/(2*a)\n",
    "\n",
    "print('Solusinya adalah {0} dan {1}'.format(sol1,sol2))"
   ]
  },
  {
   "cell_type": "code",
   "execution_count": 28,
   "id": "563c8e81-a203-464d-9cb9-cdb115abfbed",
   "metadata": {},
   "outputs": [
    {
     "name": "stdout",
     "output_type": "stream",
     "text": [
      "1102213211_TantoWijaya\n"
     ]
    },
    {
     "name": "stdin",
     "output_type": "stream",
     "text": [
      "Masukan nilai x:  4\n",
      "Masukan nilai y:  9\n"
     ]
    },
    {
     "name": "stdout",
     "output_type": "stream",
     "text": [
      "Nilai x setelah di swap: 9\n",
      "Nilai y setelah di swap: 4\n"
     ]
    }
   ],
   "source": [
    "print('1102213211_TantoWijaya')\n",
    "# Example Number 6: Swap dua variabel\n",
    "\n",
    "x = input('Masukan nilai x: ')\n",
    "y = input('Masukan nilai y: ')\n",
    "\n",
    "# create a temporary variable and swap the values\n",
    "temp = x\n",
    "x = y\n",
    "y = temp\n",
    "\n",
    "print('Nilai x setelah di swap: {}'.format(x))\n",
    "print('Nilai y setelah di swap: {}'.format(y))"
   ]
  },
  {
   "cell_type": "code",
   "execution_count": 32,
   "id": "19dd623f-85d2-4c35-9ec4-567d32bee23d",
   "metadata": {},
   "outputs": [
    {
     "name": "stdout",
     "output_type": "stream",
     "text": [
      "1102213211_TantoWijaya\n",
      "36\n"
     ]
    }
   ],
   "source": [
    "print('1102213211_TantoWijaya')\n",
    "# Example Number 7: Generate a Random Number 0 - 99\n",
    "\n",
    "# importing the random module\n",
    "import random\n",
    "\n",
    "print(random.randint(0,99))"
   ]
  },
  {
   "cell_type": "code",
   "execution_count": 38,
   "id": "e014e1cd-4f7a-45f7-98a4-b7f6563e7bb5",
   "metadata": {},
   "outputs": [
    {
     "name": "stdout",
     "output_type": "stream",
     "text": [
      "1102213211_TantoWijaya\n"
     ]
    },
    {
     "name": "stdin",
     "output_type": "stream",
     "text": [
      "Masukan nilai kilometer:  99\n"
     ]
    },
    {
     "name": "stdout",
     "output_type": "stream",
     "text": [
      "99.00 kilometer = 61.52 mil\n"
     ]
    }
   ],
   "source": [
    "print('1102213211_TantoWijaya')\n",
    "# Example Number 8: Konversi kilometer ke mil\n",
    "\n",
    "kilometers = float(input(\"Masukan nilai kilometer: \"))\n",
    "\n",
    "# faktor konversi\n",
    "conv_fac = 0.621371\n",
    "\n",
    "# menghitung mil\n",
    "miles = kilometers * conv_fac\n",
    "\n",
    "print('%0.2f kilometer = %0.2f mil' %(kilometers,miles))"
   ]
  },
  {
   "cell_type": "code",
   "execution_count": 40,
   "id": "4c6ebf53-ad5e-41a2-b6c0-5d0592126b5b",
   "metadata": {},
   "outputs": [
    {
     "name": "stdout",
     "output_type": "stream",
     "text": [
      "1102213211_TantoWijaya\n",
      "37.5 derajat Celsius = 99.5 derajat Fahrenheit\n"
     ]
    }
   ],
   "source": [
    "print('1102213211_TantoWijaya')\n",
    "# Example Number 9: Konversi celsius ke fahrenheit\n",
    "\n",
    "celsius = 37.5\n",
    "\n",
    "# menghitung fahrenheit\n",
    "fahrenheit = (celsius * 1.8) + 32\n",
    "print('%0.1f derajat Celsius = %0.1f derajat Fahrenheit' %(celsius, fahrenheit))"
   ]
  },
  {
   "cell_type": "code",
   "execution_count": 41,
   "id": "a274764b-5003-4d71-9b12-a46cf6768515",
   "metadata": {},
   "outputs": [
    {
     "name": "stdout",
     "output_type": "stream",
     "text": [
      "1102213211_TantoWijaya\n"
     ]
    },
    {
     "name": "stdin",
     "output_type": "stream",
     "text": [
      "Masukan angka: 97\n"
     ]
    },
    {
     "name": "stdout",
     "output_type": "stream",
     "text": [
      "Bilangan Positif\n"
     ]
    }
   ],
   "source": [
    "print('1102213211_TantoWijaya')\n",
    "# Example Number 10: Cek bilangan positif dan negatif\n",
    "\n",
    "num = float(input(\"Masukan angka:\"))\n",
    "if num >= 0:\n",
    "    if num == 0:\n",
    "        print(\"Nol\")\n",
    "    else:\n",
    "        print(\"Bilangan Positif\")\n",
    "else:\n",
    "    print(\"Bilangan Negatif\")"
   ]
  },
  {
   "cell_type": "code",
   "execution_count": 42,
   "id": "7d134376-5093-4322-81af-fba02cab4dd8",
   "metadata": {},
   "outputs": [
    {
     "name": "stdout",
     "output_type": "stream",
     "text": [
      "1102213211_TantoWijaya\n"
     ]
    },
    {
     "name": "stdin",
     "output_type": "stream",
     "text": [
      "Masukan angka:  57\n"
     ]
    },
    {
     "name": "stdout",
     "output_type": "stream",
     "text": [
      "57 adalah Ganjil\n"
     ]
    }
   ],
   "source": [
    "print('1102213211_TantoWijaya')\n",
    "# Example Number 11: Cek angka ganjil dan genap\n",
    "\n",
    "num = int(input(\"Masukan angka: \"))\n",
    "if (num % 2) == 0:\n",
    "   print(\"{0} adalah Genap\".format(num))\n",
    "else:\n",
    "   print(\"{0} adalah Ganjil\".format(num))"
   ]
  },
  {
   "cell_type": "code",
   "execution_count": 43,
   "id": "9fc42270-9325-484b-a1ae-b9e4d70b5f2b",
   "metadata": {},
   "outputs": [
    {
     "name": "stdout",
     "output_type": "stream",
     "text": [
      "1102213211_TantoWijaya\n"
     ]
    },
    {
     "name": "stdin",
     "output_type": "stream",
     "text": [
      "Masukan tahun:  2012\n"
     ]
    },
    {
     "name": "stdout",
     "output_type": "stream",
     "text": [
      "2012 adalah tahun kabisat\n"
     ]
    }
   ],
   "source": [
    "print('1102213211_TantoWijaya')\n",
    "# Example Number 12: Cek tahun kabisat\n",
    "\n",
    "year = int(input(\"Masukan tahun: \"))\n",
    "\n",
    "if (year % 400 == 0) and (year % 100 == 0):\n",
    "    print(\"{0} adalah tahun kabisat\".format(year))\n",
    "elif (year % 4 ==0) and (year % 100 != 0):\n",
    "    print(\"{0} adalah tahun kabisat\".format(year))\n",
    "else:\n",
    "    print(\"{0} bukan tahun kabisat\".format(year))"
   ]
  },
  {
   "cell_type": "code",
   "execution_count": 44,
   "id": "863d4186-f256-4bd8-9ea8-93c160a59fbd",
   "metadata": {},
   "outputs": [
    {
     "name": "stdout",
     "output_type": "stream",
     "text": [
      "1102213211_TantoWijaya\n"
     ]
    },
    {
     "name": "stdin",
     "output_type": "stream",
     "text": [
      "Masukan angka pertama:  12\n",
      "Masukan angka kedua:  32\n",
      "Masukan angka ketiga:  10\n"
     ]
    },
    {
     "name": "stdout",
     "output_type": "stream",
     "text": [
      "Angka terbesar adalah  32.0\n"
     ]
    }
   ],
   "source": [
    "print('1102213211_TantoWijaya')\n",
    "# Example Number 13: Mencari angka terbesar\n",
    "\n",
    "num1 = float(input(\"Masukan angka pertama: \"))\n",
    "num2 = float(input(\"Masukan angka kedua: \"))\n",
    "num3 = float(input(\"Masukan angka ketiga: \"))\n",
    "\n",
    "if (num1 >= num2) and (num1 >= num3):\n",
    "   largest = num1\n",
    "elif (num2 >= num1) and (num2 >= num3):\n",
    "   largest = num2\n",
    "else:\n",
    "   largest = num3\n",
    "\n",
    "print(\"Angka terbesar adalah \", largest)"
   ]
  },
  {
   "cell_type": "code",
   "execution_count": 45,
   "id": "6f9fc201-0170-4331-a15d-2678a77bfc65",
   "metadata": {},
   "outputs": [
    {
     "name": "stdout",
     "output_type": "stream",
     "text": [
      "1102213211_TantoWijaya\n"
     ]
    },
    {
     "name": "stdin",
     "output_type": "stream",
     "text": [
      "Masukan angka:  37\n"
     ]
    },
    {
     "name": "stdout",
     "output_type": "stream",
     "text": [
      "37 adalah bilangan prima\n"
     ]
    }
   ],
   "source": [
    "print('1102213211_TantoWijaya')\n",
    "# Example Number 14: Cek bilangan prima\n",
    "\n",
    "num = int(input(\"Masukan angka: \"))\n",
    "\n",
    "# define a flag variable\n",
    "flag = False\n",
    "\n",
    "if num == 1:\n",
    "    print(num, \"bukan bilangan prima\")\n",
    "elif num > 1:\n",
    "    # check for factors\n",
    "    for i in range(2, num):\n",
    "        if (num % i) == 0:\n",
    "            # if factor is found, set flag to True\n",
    "            flag = True\n",
    "            # break out of loop\n",
    "            break\n",
    "    # check if flag is True\n",
    "    if flag:\n",
    "        print(num, \"bukan bilangan prima\")\n",
    "    else:\n",
    "        print(num, \"adalah bilangan prima\")"
   ]
  },
  {
   "cell_type": "code",
   "execution_count": 46,
   "id": "0da8c1ea-c8be-496c-bff3-31ca546d8b03",
   "metadata": {},
   "outputs": [
    {
     "name": "stdout",
     "output_type": "stream",
     "text": [
      "1102213211_TantoWijaya\n",
      "Bilangan prima antara 900 dan 1000 adalah:\n",
      "907\n",
      "911\n",
      "919\n",
      "929\n",
      "937\n",
      "941\n",
      "947\n",
      "953\n",
      "967\n",
      "971\n",
      "977\n",
      "983\n",
      "991\n",
      "997\n"
     ]
    }
   ],
   "source": [
    "print('1102213211_TantoWijaya')\n",
    "# Example Number 15: Mencari bilangan prima pada interval tertentu\n",
    "\n",
    "lower = 900\n",
    "upper = 1000\n",
    "\n",
    "print(\"Bilangan prima antara\", lower, \"dan\", upper, \"adalah:\")\n",
    "\n",
    "for num in range(lower, upper + 1):\n",
    "   # all prime numbers are greater than 1\n",
    "   if num > 1:\n",
    "       for i in range(2, num):\n",
    "           if (num % i) == 0:\n",
    "               break\n",
    "       else:\n",
    "           print(num)"
   ]
  },
  {
   "cell_type": "code",
   "execution_count": 47,
   "id": "aacab8ef-fd09-4b46-9c1b-148bab6fad89",
   "metadata": {},
   "outputs": [
    {
     "name": "stdout",
     "output_type": "stream",
     "text": [
      "1102213211_TantoWijaya\n"
     ]
    },
    {
     "name": "stdin",
     "output_type": "stream",
     "text": [
      "Masukan angka:  7\n"
     ]
    },
    {
     "name": "stdout",
     "output_type": "stream",
     "text": [
      "Faktorial dari 7 adalah 5040\n"
     ]
    }
   ],
   "source": [
    "print('1102213211_TantoWijaya')\n",
    "# Example Number 16: Mencari angka faktorial\n",
    "\n",
    "num = int(input(\"Masukan angka: \"))\n",
    "\n",
    "factorial = 1\n",
    "\n",
    "# check if the number is negative, positive or zero\n",
    "if num < 0:\n",
    "   print(\"Maaf, angka faktorial tidak ada untuk angka negatif.\")\n",
    "elif num == 0:\n",
    "   print(\"Faktorial dari 0 adalah 1\")\n",
    "else:\n",
    "   for i in range(1,num + 1):\n",
    "       factorial = factorial*i\n",
    "   print(\"Faktorial dari\", num, \"adalah\", factorial)"
   ]
  },
  {
   "cell_type": "code",
   "execution_count": 48,
   "id": "23341cbb-d690-4e7c-ba05-87bbc6545676",
   "metadata": {},
   "outputs": [
    {
     "name": "stdout",
     "output_type": "stream",
     "text": [
      "1102213211_TantoWijaya\n"
     ]
    },
    {
     "name": "stdin",
     "output_type": "stream",
     "text": [
      "Tampilkan tabel perkalian dari?  16\n"
     ]
    },
    {
     "name": "stdout",
     "output_type": "stream",
     "text": [
      "16 x 1 = 16\n",
      "16 x 2 = 32\n",
      "16 x 3 = 48\n",
      "16 x 4 = 64\n",
      "16 x 5 = 80\n",
      "16 x 6 = 96\n",
      "16 x 7 = 112\n",
      "16 x 8 = 128\n",
      "16 x 9 = 144\n",
      "16 x 10 = 160\n"
     ]
    }
   ],
   "source": [
    "print('1102213211_TantoWijaya')\n",
    "# Example Number 17: Tabel Perkalian\n",
    "\n",
    "num = int(input(\"Tampilkan tabel perkalian dari? \"))\n",
    "\n",
    "# iterate 10 times from i = 1 to 10\n",
    "for i in range(1, 11):\n",
    "   print(num, 'x', i, '=', num*i)"
   ]
  },
  {
   "cell_type": "code",
   "execution_count": 49,
   "id": "8a20ccd1-0819-4e8b-aa08-aef5bab2d8d6",
   "metadata": {},
   "outputs": [
    {
     "name": "stdout",
     "output_type": "stream",
     "text": [
      "1102213211_TantoWijaya\n"
     ]
    },
    {
     "name": "stdin",
     "output_type": "stream",
     "text": [
      "How many terms?  7\n"
     ]
    },
    {
     "name": "stdout",
     "output_type": "stream",
     "text": [
      "Deret Fibonacci:\n",
      "0\n",
      "1\n",
      "1\n",
      "2\n",
      "3\n",
      "5\n",
      "8\n"
     ]
    }
   ],
   "source": [
    "print('1102213211_TantoWijaya')\n",
    "# Example Number 18: Deret Fibonacci\n",
    "\n",
    "nterms = int(input(\"How many terms? \"))\n",
    "\n",
    "# first two terms\n",
    "n1, n2 = 0, 1\n",
    "count = 0\n",
    "\n",
    "# check if the number of terms is valid\n",
    "if nterms <= 0:\n",
    "   print(\"Tolong masukan bilangan bulat positif\")\n",
    "# if there is only one term, return n1\n",
    "elif nterms == 1:\n",
    "   print(\"Deret fibonacci sampai \",nterms,\":\")\n",
    "   print(n1)\n",
    "# generate fibonacci sequence\n",
    "else:\n",
    "   print(\"Deret Fibonacci:\")\n",
    "   while count < nterms:\n",
    "       print(n1)\n",
    "       nth = n1 + n2\n",
    "       # update values\n",
    "       n1 = n2\n",
    "       n2 = nth\n",
    "       count += 1"
   ]
  },
  {
   "cell_type": "code",
   "execution_count": 50,
   "id": "33eb669d-499b-4064-9b81-6d82aae41d40",
   "metadata": {},
   "outputs": [
    {
     "name": "stdout",
     "output_type": "stream",
     "text": [
      "1102213211_TantoWijaya\n"
     ]
    },
    {
     "name": "stdin",
     "output_type": "stream",
     "text": [
      "Masukan angka:  407\n"
     ]
    },
    {
     "name": "stdout",
     "output_type": "stream",
     "text": [
      "407 adalah angka Armstrong\n"
     ]
    }
   ],
   "source": [
    "print('1102213211_TantoWijaya')\n",
    "# Example Number 19: Check Armstrong Number\n",
    "\n",
    "num = int(input(\"Masukan angka: \"))\n",
    "\n",
    "# initialize sum\n",
    "sum = 0\n",
    "\n",
    "# find the sum of the cube of each digit\n",
    "temp = num\n",
    "while temp > 0:\n",
    "   digit = temp % 10\n",
    "   sum += digit ** 3\n",
    "   temp //= 10\n",
    "\n",
    "# display the result\n",
    "if num == sum:\n",
    "   print(num,\"adalah angka Armstrong\")\n",
    "else:\n",
    "   print(num,\"bukan angka Armstrong\")"
   ]
  },
  {
   "cell_type": "code",
   "execution_count": 51,
   "id": "6fad591c-88a3-4fd6-ac46-f215cc4142ac",
   "metadata": {},
   "outputs": [
    {
     "name": "stdout",
     "output_type": "stream",
     "text": [
      "1102213211_TantoWijaya\n",
      "153\n",
      "370\n",
      "371\n",
      "407\n",
      "1634\n"
     ]
    }
   ],
   "source": [
    "print('1102213211_TantoWijaya')\n",
    "# Example Number 20: Mencari angka Armstrong pada interval tertentu\n",
    "\n",
    "lower = 100\n",
    "upper = 2000\n",
    "\n",
    "for num in range(lower, upper + 1):\n",
    "   # order of number\n",
    "   order = len(str(num))\n",
    "    \n",
    "   # initialize sum\n",
    "   sum = 0\n",
    "\n",
    "   temp = num\n",
    "   while temp > 0:\n",
    "       digit = temp % 10\n",
    "       sum += digit ** order\n",
    "       temp //= 10\n",
    "\n",
    "   if num == sum:\n",
    "       print(num)"
   ]
  },
  {
   "cell_type": "code",
   "execution_count": 54,
   "id": "baeb5db3-b717-414c-8e49-2631b38ada01",
   "metadata": {},
   "outputs": [
    {
     "name": "stdout",
     "output_type": "stream",
     "text": [
      "1102213211_TantoWijaya\n",
      "Jumlahnya adalah 78\n"
     ]
    }
   ],
   "source": [
    "print('1102213211_TantoWijaya')\n",
    "# Example Number 21: Mencari jumlah angka asli\n",
    "\n",
    "num = 12\n",
    "\n",
    "if num < 0:\n",
    "   print(\"Masukan angka positif\")\n",
    "else:\n",
    "   sum = 0\n",
    "   # use while loop to iterate until zero\n",
    "   while(num > 0):\n",
    "       sum += num\n",
    "       num -= 1\n",
    "   print(\"Jumlahnya adalah\", sum)"
   ]
  },
  {
   "cell_type": "code",
   "execution_count": 55,
   "id": "eefffd78-fd67-4126-8c6d-73f4459c6721",
   "metadata": {},
   "outputs": [
    {
     "name": "stdout",
     "output_type": "stream",
     "text": [
      "1102213211_TantoWijaya\n",
      "The total terms are: 10\n",
      "2 raised to power 0 is 1\n",
      "2 raised to power 1 is 2\n",
      "2 raised to power 2 is 4\n",
      "2 raised to power 3 is 8\n",
      "2 raised to power 4 is 16\n",
      "2 raised to power 5 is 32\n",
      "2 raised to power 6 is 64\n",
      "2 raised to power 7 is 128\n",
      "2 raised to power 8 is 256\n",
      "2 raised to power 9 is 512\n"
     ]
    }
   ],
   "source": [
    "print('1102213211_TantoWijaya')\n",
    "# Example Number 22: Tampilkan Pangkat 2 Menggunakan Fungsi Anonim\n",
    "\n",
    "terms = 10\n",
    "\n",
    "# terms = int(input(\"How many terms? \"))\n",
    "\n",
    "# use anonymous function\n",
    "result = list(map(lambda x: 2 ** x, range(terms)))\n",
    "\n",
    "print(\"The total terms are:\",terms)\n",
    "for i in range(terms):\n",
    "   print(\"2 raised to power\",i,\"is\",result[i])"
   ]
  },
  {
   "cell_type": "code",
   "execution_count": 57,
   "id": "80cc79d5-3dee-4159-8322-e66693269fe2",
   "metadata": {},
   "outputs": [
    {
     "name": "stdout",
     "output_type": "stream",
     "text": [
      "1102213211_TantoWijaya\n",
      "Daftar angka: [12, 65, 54, 39, 102, 339, 221]\n",
      "Angka yang habis dibagi 13 adalah [65, 39, 221]\n"
     ]
    }
   ],
   "source": [
    "print('1102213211_TantoWijaya')\n",
    "# Example Number 23: Menemukan Bilangan Yang Habis Dibagi Bilangan Lain\n",
    "\n",
    "my_list = [12, 65, 54, 39, 102, 339, 221,]\n",
    "\n",
    "# use anonymous function to filter\n",
    "result = list(filter(lambda x: (x % 13 == 0), my_list))\n",
    "\n",
    "# display the result\n",
    "print(\"Daftar angka:\", my_list)\n",
    "print(\"Angka yang habis dibagi 13 adalah\", result)"
   ]
  },
  {
   "cell_type": "code",
   "execution_count": 58,
   "id": "7642edab-6dfd-4643-b140-b40b27d0d0cb",
   "metadata": {},
   "outputs": [
    {
     "name": "stdout",
     "output_type": "stream",
     "text": [
      "1102213211_TantoWijaya\n",
      "Nilai desimal 344 adalah:\n",
      "0b101011000 dalam biner.\n",
      "0o530 dalam octal.\n",
      "0x158 dalam hexadesimal.\n"
     ]
    }
   ],
   "source": [
    "print('1102213211_TantoWijaya')\n",
    "# Example Number 24: Convert Decimal to Binary, Octal and Hexadecimal\n",
    "\n",
    "dec = 344\n",
    "\n",
    "print(\"Nilai desimal\", dec, \"adalah:\")\n",
    "print(bin(dec), \"dalam biner.\")\n",
    "print(oct(dec), \"dalam octal.\")\n",
    "print(hex(dec), \"dalam hexadesimal.\")"
   ]
  },
  {
   "cell_type": "code",
   "execution_count": 64,
   "id": "102940b9-8fee-4985-b1b7-e9b1963f8156",
   "metadata": {},
   "outputs": [
    {
     "name": "stdout",
     "output_type": "stream",
     "text": [
      "1102213211_TantoWijaya\n",
      "Nilai ASCII dari 'p' adalah 112\n"
     ]
    }
   ],
   "source": [
    "print('1102213211_TantoWijaya')\n",
    "# Example Number 25: Mencari nilai ASCII Karakter\n",
    "\n",
    "c = 'p'\n",
    "print(\"Nilai ASCII dari '\" + c + \"' adalah\", ord(c))"
   ]
  },
  {
   "cell_type": "code",
   "execution_count": 65,
   "id": "beeae03b-bcfe-4748-84b0-ab3d4edbc30d",
   "metadata": {},
   "outputs": [
    {
     "name": "stdout",
     "output_type": "stream",
     "text": [
      "1102213211_TantoWijaya\n",
      "FPB dari 54 dan 24 adalah 6\n"
     ]
    }
   ],
   "source": [
    "print('1102213211_TantoWijaya')\n",
    "# Example Number 26: Mencari Faktor Persekutuan Terbesar (FPB)\n",
    "\n",
    "def compute_hcf(x, y):\n",
    "    # choose the smaller number\n",
    "    if x > y:\n",
    "        smaller = y\n",
    "    else:\n",
    "        smaller = x\n",
    "    for i in range(1, smaller+1):\n",
    "        if((x % i == 0) and (y % i == 0)):\n",
    "            hcf = i \n",
    "    return hcf\n",
    "\n",
    "num1 = 54 \n",
    "num2 = 24\n",
    "\n",
    "print(\"FPB dari {0} dan {1} adalah\".format(num1, num2), compute_hcf(num1, num2))"
   ]
  },
  {
   "cell_type": "code",
   "execution_count": 66,
   "id": "9e1b9ef2-e7a4-46bf-8565-b7617158d5ce",
   "metadata": {},
   "outputs": [
    {
     "name": "stdout",
     "output_type": "stream",
     "text": [
      "1102213211_TantoWijaya\n",
      "KPK dari 54 dan 24 adalah 216\n"
     ]
    }
   ],
   "source": [
    "print('1102213211_TantoWijaya')\n",
    "# Example Number 27: Mencari Kelipatan Persekutuan Terkecil (KPK)\n",
    "\n",
    "def compute_lcm(x, y):\n",
    "   # choose the greater number\n",
    "   if x > y:\n",
    "       greater = x\n",
    "   else:\n",
    "       greater = y\n",
    "\n",
    "   while(True):\n",
    "       if((greater % x == 0) and (greater % y == 0)):\n",
    "           lcm = greater\n",
    "           break\n",
    "       greater += 1\n",
    "\n",
    "   return lcm\n",
    "\n",
    "num1 = 54\n",
    "num2 = 24\n",
    "\n",
    "print(\"KPK dari {0} dan {1} adalah\".format(num1, num2), compute_lcm(num1, num2))"
   ]
  },
  {
   "cell_type": "code",
   "execution_count": 67,
   "id": "b138950a-ddd9-4df3-a2fc-5c387cc711de",
   "metadata": {},
   "outputs": [
    {
     "name": "stdout",
     "output_type": "stream",
     "text": [
      "1102213211_TantoWijaya\n",
      "Faktor dari 320 adalah:\n",
      "1\n",
      "2\n",
      "4\n",
      "5\n",
      "8\n",
      "10\n",
      "16\n",
      "20\n",
      "32\n",
      "40\n",
      "64\n",
      "80\n",
      "160\n",
      "320\n"
     ]
    }
   ],
   "source": [
    "print('1102213211_TantoWijaya')\n",
    "# Example Number 28: Mencari Faktor Suatu Bilangan\n",
    "\n",
    "def print_factors(x):\n",
    "   print(\"Faktor dari\",x,\"adalah:\")\n",
    "   for i in range(1, x + 1):\n",
    "       if x % i == 0:\n",
    "           print(i)\n",
    "\n",
    "num = 320\n",
    "\n",
    "print_factors(num)"
   ]
  },
  {
   "cell_type": "code",
   "execution_count": 68,
   "id": "c1212780-5bff-4ee6-bbc3-7a7db41b78f9",
   "metadata": {},
   "outputs": [
    {
     "name": "stdout",
     "output_type": "stream",
     "text": [
      "1102213211_TantoWijaya\n",
      "Pilih operasi:\n",
      "1.Penjumlahan\n",
      "2.Pengurangan\n",
      "3.Perkalian\n",
      "4.Pembagian\n"
     ]
    },
    {
     "name": "stdin",
     "output_type": "stream",
     "text": [
      "Masukan pilihan (1/2/3/4):  3\n",
      "Masukan angka pertama:  12\n",
      "Masukan angka kedua:  11\n"
     ]
    },
    {
     "name": "stdout",
     "output_type": "stream",
     "text": [
      "12.0 * 11.0 = 132.0\n"
     ]
    },
    {
     "name": "stdin",
     "output_type": "stream",
     "text": [
      "Mari kita lakukan perhitungan selanjutnya? (ya/tidak):  tidak\n"
     ]
    }
   ],
   "source": [
    "print('1102213211_TantoWijaya')\n",
    "# Example Number 29: Kalkulator Sederhana\n",
    "\n",
    "# fungsi penjumlahan\n",
    "def add(x, y):\n",
    "    return x + y\n",
    "\n",
    "# fungsi pengurangan\n",
    "def subtract(x, y):\n",
    "    return x - y\n",
    "\n",
    "# fungsi perkalian\n",
    "def multiply(x, y):\n",
    "    return x * y\n",
    "\n",
    "# fungsi pembagian\n",
    "def divide(x, y):\n",
    "    return x / y\n",
    "\n",
    "print(\"Pilih operasi:\")\n",
    "print(\"1.Penjumlahan\")\n",
    "print(\"2.Pengurangan\")\n",
    "print(\"3.Perkalian\")\n",
    "print(\"4.Pembagian\")\n",
    "\n",
    "while True:\n",
    "    # take input from the user\n",
    "    choice = input(\"Masukan pilihan (1/2/3/4): \")\n",
    "\n",
    "    # check if choice is one of the four options\n",
    "    if choice in ('1', '2', '3', '4'):\n",
    "        try:\n",
    "            num1 = float(input(\"Masukan angka pertama: \"))\n",
    "            num2 = float(input(\"Masukan angka kedua: \"))\n",
    "        except ValueError:\n",
    "            print(\"Invalid input. Mohon masukan sebuah angka\")\n",
    "            continue\n",
    "\n",
    "        if choice == '1':\n",
    "            print(num1, \"+\", num2, \"=\", add(num1, num2))\n",
    "\n",
    "        elif choice == '2':\n",
    "            print(num1, \"-\", num2, \"=\", subtract(num1, num2))\n",
    "\n",
    "        elif choice == '3':\n",
    "            print(num1, \"*\", num2, \"=\", multiply(num1, num2))\n",
    "\n",
    "        elif choice == '4':\n",
    "            print(num1, \"/\", num2, \"=\", divide(num1, num2))\n",
    "        \n",
    "        # check if user wants another calculation\n",
    "        # break the while loop if answer is no\n",
    "        next_calculation = input(\"Mari kita lakukan perhitungan selanjutnya? (ya/tidak): \")\n",
    "        if next_calculation == \"tidak\":\n",
    "          break\n",
    "    else:\n",
    "        print(\"Invalid Input\")"
   ]
  },
  {
   "cell_type": "code",
   "execution_count": 70,
   "id": "a8534801-8dd5-44c4-b9a4-5401f7043ab5",
   "metadata": {},
   "outputs": [
    {
     "name": "stdout",
     "output_type": "stream",
     "text": [
      "1102213211_TantoWijaya\n",
      "Anda mendapatkan:\n",
      "3 Sekop\n",
      "8 Sekop\n",
      "8 Wajik\n",
      "10 Keriting\n",
      "8 Keriting\n"
     ]
    }
   ],
   "source": [
    "print('1102213211_TantoWijaya')\n",
    "# Example Number 30: Shuffle Setumpuk Kartu\n",
    "\n",
    "# importing modules\n",
    "import itertools, random\n",
    "\n",
    "# membuat tumpukan kartu\n",
    "deck = list(itertools.product(range(1,14),['Sekop','Hati','Wajik','Keriting']))\n",
    "\n",
    "# shuffle kartu\n",
    "random.shuffle(deck)\n",
    "\n",
    "# buat lima kartu\n",
    "print(\"Anda mendapatkan:\")\n",
    "for i in range(5):\n",
    "   print(deck[i][0], deck[i][1])"
   ]
  },
  {
   "cell_type": "code",
   "execution_count": 71,
   "id": "dce96f46-4435-4a0a-ac7f-4f4d1f261dc0",
   "metadata": {},
   "outputs": [
    {
     "name": "stdout",
     "output_type": "stream",
     "text": [
      "1102213211_TantoWijaya\n"
     ]
    },
    {
     "name": "stdin",
     "output_type": "stream",
     "text": [
      "Masukan tahun:  2023\n",
      "Masukan bulan:  10\n"
     ]
    },
    {
     "name": "stdout",
     "output_type": "stream",
     "text": [
      "    October 2023\n",
      "Mo Tu We Th Fr Sa Su\n",
      "                   1\n",
      " 2  3  4  5  6  7  8\n",
      " 9 10 11 12 13 14 15\n",
      "16 17 18 19 20 21 22\n",
      "23 24 25 26 27 28 29\n",
      "30 31\n",
      "\n"
     ]
    }
   ],
   "source": [
    "print('1102213211_TantoWijaya')\n",
    "# Example Number 31: Menampilkan Kalendar\n",
    "\n",
    "# importing calendar module\n",
    "import calendar\n",
    "\n",
    "yy = int(input(\"Masukan tahun: \"))\n",
    "mm = int(input(\"Masukan bulan: \"))\n",
    "\n",
    "# menampilkan kalendar\n",
    "print(calendar.month(yy, mm))"
   ]
  },
  {
   "cell_type": "code",
   "execution_count": 73,
   "id": "2b103b93-1c0d-42b2-9c6a-e26bcc467430",
   "metadata": {},
   "outputs": [
    {
     "name": "stdout",
     "output_type": "stream",
     "text": [
      "1102213211_TantoWijaya\n",
      "Deret Fibonacci:\n",
      "0\n",
      "1\n",
      "1\n",
      "2\n",
      "3\n",
      "5\n",
      "8\n",
      "13\n",
      "21\n",
      "34\n"
     ]
    }
   ],
   "source": [
    "print('1102213211_TantoWijaya')\n",
    "# Example Number 32: Menampilkan deret fibonacci dengan rekursi\n",
    "\n",
    "def recur_fibo(n):\n",
    "   if n <= 1:\n",
    "       return n\n",
    "   else:\n",
    "       return(recur_fibo(n-1) + recur_fibo(n-2))\n",
    "\n",
    "nterms = 10\n",
    "\n",
    "# check if the number of terms is valid\n",
    "if nterms <= 0:\n",
    "   print(\"Masukan bilangan bulat positif\")\n",
    "else:\n",
    "   print(\"Deret Fibonacci:\")\n",
    "   for i in range(nterms):\n",
    "       print(recur_fibo(i))"
   ]
  },
  {
   "cell_type": "code",
   "execution_count": 75,
   "id": "860a8f7d-66b5-4740-b286-d76b07dd3e30",
   "metadata": {},
   "outputs": [
    {
     "name": "stdout",
     "output_type": "stream",
     "text": [
      "1102213211_TantoWijaya\n"
     ]
    },
    {
     "name": "stdin",
     "output_type": "stream",
     "text": [
      "Masukan angka:  16\n"
     ]
    },
    {
     "name": "stdout",
     "output_type": "stream",
     "text": [
      "Jumlah angka asli dari 1 sampai 16 adalah 136\n"
     ]
    }
   ],
   "source": [
    "print('1102213211_TantoWijaya')\n",
    "# Example Number 33: Mencari jumlah angka asli dengan rekursi\n",
    "\n",
    "def recur_sum(n):\n",
    "   if n <= 1:\n",
    "       return n\n",
    "   else:\n",
    "       return n + recur_sum(n-1)\n",
    "\n",
    "num = int(input(\"Masukan angka: \"))\n",
    "\n",
    "if num < 0:\n",
    "   print(\"Masukan bilangan bulat positif\")\n",
    "else:\n",
    "   print(\"Jumlah angka asli dari 1 sampai {} adalah\".format(num), recur_sum(num))"
   ]
  },
  {
   "cell_type": "code",
   "execution_count": 77,
   "id": "17b9140e-adde-41df-9949-3935171c512b",
   "metadata": {},
   "outputs": [
    {
     "name": "stdout",
     "output_type": "stream",
     "text": [
      "1102213211_TantoWijaya\n"
     ]
    },
    {
     "name": "stdin",
     "output_type": "stream",
     "text": [
      "Masukan angka: 7\n"
     ]
    },
    {
     "name": "stdout",
     "output_type": "stream",
     "text": [
      "Faktorial dari 7 adalah 5040\n"
     ]
    }
   ],
   "source": [
    "print('1102213211_TantoWijaya')\n",
    "# Example Number 34: Mencari Faktorial Bilangan dengan Rekursi\n",
    "\n",
    "def recur_factorial(n):\n",
    "   if n == 1:\n",
    "       return n\n",
    "   else:\n",
    "       return n*recur_factorial(n-1)\n",
    "\n",
    "num = int(input(\"Masukan angka:\"))\n",
    "\n",
    "# check if the number is negative\n",
    "if num < 0:\n",
    "   print(\"Maaf, faktorial untuk angka negatif tidak ada.\")\n",
    "elif num == 0:\n",
    "   print(\"Faktorial dari 0 adalah 1\")\n",
    "else:\n",
    "   print(\"Faktorial dari\", num, \"adalah\", recur_factorial(num))"
   ]
  },
  {
   "cell_type": "code",
   "execution_count": 78,
   "id": "8a137b22-da36-4a2d-a4d2-4288de311f7d",
   "metadata": {},
   "outputs": [
    {
     "name": "stdout",
     "output_type": "stream",
     "text": [
      "1102213211_TantoWijaya\n"
     ]
    },
    {
     "name": "stdin",
     "output_type": "stream",
     "text": [
      "Masukan angka: 34\n"
     ]
    },
    {
     "name": "stdout",
     "output_type": "stream",
     "text": [
      "100010\n"
     ]
    }
   ],
   "source": [
    "print('1102213211_TantoWijaya')\n",
    "# Example Number 35: Konversi Desimal ke Biner dengan Rekursi\n",
    "\n",
    "def convertToBinary(n):\n",
    "   if n > 1:\n",
    "       convertToBinary(n//2)\n",
    "   print(n % 2,end = '')\n",
    "\n",
    "dec = int(input(\"Masukan angka:\"))\n",
    "\n",
    "convertToBinary(dec)\n",
    "print()"
   ]
  },
  {
   "cell_type": "code",
   "execution_count": 80,
   "id": "7dc6289e-9492-4523-aaff-701d0cd39afd",
   "metadata": {},
   "outputs": [
    {
     "name": "stdout",
     "output_type": "stream",
     "text": [
      "1102213211_TantoWijaya\n",
      "[21, 15, 4]\n",
      "[15, 14, 18]\n",
      "[16, 13, 22]\n"
     ]
    }
   ],
   "source": [
    "print('1102213211_TantoWijaya')\n",
    "# Example Number 36: Penjumlahan 2 matriks\n",
    "\n",
    "X = [[12,7,3],\n",
    "    [4 ,5,6],\n",
    "    [7 ,8,9]]\n",
    "\n",
    "Y = [[9,8,1],\n",
    "    [11,9,12],\n",
    "    [9,5,13]]\n",
    "\n",
    "result = [[0,0,0],\n",
    "         [0,0,0],\n",
    "         [0,0,0]]\n",
    "\n",
    "# iterate through rows\n",
    "for i in range(len(X)):\n",
    "   # iterate through columns\n",
    "   for j in range(len(X[0])):\n",
    "       result[i][j] = X[i][j] + Y[i][j]\n",
    "\n",
    "for r in result:\n",
    "   print(r)"
   ]
  },
  {
   "cell_type": "code",
   "execution_count": 81,
   "id": "e460b4a3-e57d-4ef3-a0e5-33837c67c6ee",
   "metadata": {},
   "outputs": [
    {
     "name": "stdout",
     "output_type": "stream",
     "text": [
      "1102213211_TantoWijaya\n",
      "[12, 4, 3]\n",
      "[7, 5, 8]\n"
     ]
    }
   ],
   "source": [
    "print('1102213211_TantoWijaya')\n",
    "# Example Number 37: Transpos Matriks\n",
    "\n",
    "X = [[12,7],\n",
    "    [4 ,5],\n",
    "    [3 ,8]]\n",
    "\n",
    "result = [[0,0,0],\n",
    "         [0,0,0]]\n",
    "\n",
    "# iterate through rows\n",
    "for i in range(len(X)):\n",
    "   # iterate through columns\n",
    "   for j in range(len(X[0])):\n",
    "       result[j][i] = X[i][j]\n",
    "\n",
    "for r in result:\n",
    "   print(r)"
   ]
  },
  {
   "cell_type": "code",
   "execution_count": 84,
   "id": "7e14d008-cf60-4575-a135-232e5a8ca926",
   "metadata": {},
   "outputs": [
    {
     "name": "stdout",
     "output_type": "stream",
     "text": [
      "1102213211_TantoWijaya\n",
      "[99, 136, 57, 21]\n",
      "[74, 97, 73, 14]\n",
      "[109, 141, 110, 19]\n"
     ]
    }
   ],
   "source": [
    "print('1102213211_TantoWijaya')\n",
    "# Example Number 38: Perkalian 2 matriks\n",
    "\n",
    "# matriks 3x3\n",
    "X = [[9,7,3],\n",
    "    [4 ,5,6],\n",
    "    [5 ,8,9]]\n",
    "# matriks 3x4\n",
    "Y = [[5,8,1,2],\n",
    "    [6,7,3,0],\n",
    "    [4,5,9,1]]\n",
    "# hasil adalah 3x4\n",
    "result = [[0,0,0,0],\n",
    "         [0,0,0,0],\n",
    "         [0,0,0,0]]\n",
    "\n",
    "# iterate through rows of X\n",
    "for i in range(len(X)):\n",
    "   # iterate through columns of Y\n",
    "   for j in range(len(Y[0])):\n",
    "       # iterate through rows of Y\n",
    "       for k in range(len(Y)):\n",
    "           result[i][j] += X[i][k] * Y[k][j]\n",
    "\n",
    "for r in result:\n",
    "   print(r)"
   ]
  },
  {
   "cell_type": "code",
   "execution_count": 85,
   "id": "43954348-79bf-4bf5-a357-670cb04acb2e",
   "metadata": {},
   "outputs": [
    {
     "name": "stdout",
     "output_type": "stream",
     "text": [
      "1102213211_TantoWijaya\n",
      "The string is a palindrome.\n"
     ]
    }
   ],
   "source": [
    "print('1102213211_TantoWijaya')\n",
    "# Example Number 39: Cek String Palindrome atau bukan\n",
    "\n",
    "my_str = 'aIbohPhoBiA'\n",
    "\n",
    "# make it suitable for caseless comparison\n",
    "my_str = my_str.casefold()\n",
    "\n",
    "# reverse the string\n",
    "rev_str = reversed(my_str)\n",
    "\n",
    "# check if the string is equal to its reverse\n",
    "if list(my_str) == list(rev_str):\n",
    "   print(\"The string is a palindrome.\")\n",
    "else:\n",
    "   print(\"The string is not a palindrome.\")"
   ]
  },
  {
   "cell_type": "code",
   "execution_count": 86,
   "id": "ecd8afcd-11b6-46d3-8a05-0687f417cb06",
   "metadata": {},
   "outputs": [
    {
     "name": "stdout",
     "output_type": "stream",
     "text": [
      "1102213211_TantoWijaya\n",
      "Hello he said and went\n"
     ]
    }
   ],
   "source": [
    "print('1102213211_TantoWijaya')\n",
    "# Example Number 40: Menghapus tanda baca dari sebuah string\n",
    "\n",
    "# define punctuation\n",
    "punctuations = '''!()-[]{};:'\"\\,<>./?@#$%^&*_~'''\n",
    "\n",
    "my_str = \"Hello!!!, he said ---and went.\"\n",
    "\n",
    "# To take input from the user\n",
    "# my_str = input(\"Enter a string: \")\n",
    "\n",
    "# remove punctuation from the string\n",
    "no_punct = \"\"\n",
    "for char in my_str:\n",
    "   if char not in punctuations:\n",
    "       no_punct = no_punct + char\n",
    "\n",
    "# display the unpunctuated string\n",
    "print(no_punct)"
   ]
  },
  {
   "cell_type": "code",
   "execution_count": 87,
   "id": "82a3f2c6-7185-49d2-aac9-338a51aec418",
   "metadata": {},
   "outputs": [
    {
     "name": "stdout",
     "output_type": "stream",
     "text": [
      "1102213211_TantoWijaya\n"
     ]
    },
    {
     "name": "stdin",
     "output_type": "stream",
     "text": [
      "Masukan string:  ini adalah tugas satu mata kuliah kecerdasan buatan tentang pemrograman python\n"
     ]
    },
    {
     "name": "stdout",
     "output_type": "stream",
     "text": [
      "Kata yang terutut:\n",
      "adalah\n",
      "buatan\n",
      "ini\n",
      "kecerdasan\n",
      "kuliah\n",
      "mata\n",
      "pemrograman\n",
      "python\n",
      "satu\n",
      "tentang\n",
      "tugas\n"
     ]
    }
   ],
   "source": [
    "print('1102213211_TantoWijaya')\n",
    "# Example Number 41: Mengurutkan kata dalam urutan abjad\n",
    "\n",
    "my_str = input(\"Masukan string: \")\n",
    "\n",
    "# breakdown the string into a list of words\n",
    "words = [word.lower() for word in my_str.split()]\n",
    "\n",
    "# sort the list\n",
    "words.sort()\n",
    "\n",
    "# display the sorted words\n",
    "print(\"Kata yang terutut:\")\n",
    "for word in words:\n",
    "   print(word)"
   ]
  },
  {
   "cell_type": "code",
   "execution_count": 88,
   "id": "99d07ad1-b9a9-4d4e-8c6f-73f7d91b3887",
   "metadata": {},
   "outputs": [
    {
     "name": "stdout",
     "output_type": "stream",
     "text": [
      "1102213211_TantoWijaya\n",
      "Gabungan E dan N adalah {0, 1, 2, 3, 4, 5, 6, 8}\n",
      "Irisan E dan N adalah {2, 4}\n",
      "Selisih E and N adalah {0, 8, 6}\n",
      "Symmetric difference of E and N is {0, 1, 3, 5, 6, 8}\n"
     ]
    }
   ],
   "source": [
    "print('1102213211_TantoWijaya')\n",
    "# Example Number 42: Set Operations\n",
    "\n",
    "# define three sets\n",
    "E = {0, 2, 4, 6, 8};\n",
    "N = {1, 2, 3, 4, 5};\n",
    "\n",
    "# set gabungan\n",
    "print(\"Gabungan E dan N adalah\",E | N)\n",
    "\n",
    "# set irisan\n",
    "print(\"Irisan E dan N adalah\",E & N)\n",
    "\n",
    "# set selisih\n",
    "print(\"Selisih E and N adalah\",E - N)\n",
    "\n",
    "# set symmetric difference\n",
    "print(\"Symmetric difference of E and N is\",E ^ N)"
   ]
  },
  {
   "cell_type": "code",
   "execution_count": 89,
   "id": "dae56733-2835-431f-98d7-62193338cddd",
   "metadata": {},
   "outputs": [
    {
     "name": "stdout",
     "output_type": "stream",
     "text": [
      "1102213211_TantoWijaya\n",
      "{'a': 2, 'e': 5, 'i': 3, 'o': 5, 'u': 3}\n"
     ]
    }
   ],
   "source": [
    "print('1102213211_TantoWijaya')\n",
    "# Example Number 43: Menghitung huruf vokal\n",
    "\n",
    "# string of vowels\n",
    "vowels = 'aeiou'\n",
    "\n",
    "ip_str = 'Hello, have you tried our tutorial section yet?'\n",
    "\n",
    "# make it suitable for caseless comparisions\n",
    "ip_str = ip_str.casefold()\n",
    "\n",
    "# make a dictionary with each vowel a key and value 0\n",
    "count = {}.fromkeys(vowels,0)\n",
    "\n",
    "# count the vowels\n",
    "for char in ip_str:\n",
    "   if char in count:\n",
    "       count[char] += 1\n",
    "\n",
    "print(count)"
   ]
  },
  {
   "cell_type": "code",
   "execution_count": 91,
   "id": "1832ad4a-f6d3-487f-b5d9-a31b7248bd45",
   "metadata": {},
   "outputs": [
    {
     "name": "stdout",
     "output_type": "stream",
     "text": [
      "1102213211_TantoWijaya\n"
     ]
    }
   ],
   "source": [
    "print('1102213211_TantoWijaya')\n",
    "# Example Number 44: Merge Mails\n",
    "\n",
    "# open names.txt for reading\n",
    "with open(\"task_python/names.txt\", 'r', encoding='utf-8') as names_file:\n",
    "\n",
    "    # open body.txt for reading\n",
    "    with open(\"task_python/body.txt\", 'r', encoding='utf-8') as body_file:\n",
    "\n",
    "        # read entire content of the body\n",
    "        body = body_file.read()\n",
    "\n",
    "        # iterate over names\n",
    "        for name in names_file:\n",
    "            mail = \"Hello \" + name.strip() + \"\\n\" + body\n",
    "\n",
    "            # write the mails to individual files\n",
    "            with open(name.strip()+\".txt\", 'w', encoding='utf-8') as mail_file:\n",
    "                mail_file.write(mail)"
   ]
  },
  {
   "cell_type": "code",
   "execution_count": 92,
   "id": "aaf5bc5d-6152-43e8-ab0a-55f95435bc8c",
   "metadata": {},
   "outputs": [
    {
     "name": "stdout",
     "output_type": "stream",
     "text": [
      "1102213211_TantoWijaya\n",
      "Resolusi gambar adalah 64639 x 65411\n"
     ]
    }
   ],
   "source": [
    "print('1102213211_TantoWijaya')\n",
    "# Example Number 45: Menentukan ukuran/resolusi gambar\n",
    "\n",
    "def jpeg_res(filename):\n",
    "   \"\"\"\"This function prints the resolution of the jpeg image file passed into it\"\"\"\n",
    "\n",
    "   # open image for reading in binary mode\n",
    "   with open(filename,'rb') as img_file:\n",
    "\n",
    "       # height of image (in 2 bytes) is at 164th position\n",
    "       img_file.seek(163)\n",
    "\n",
    "       # read the 2 bytes\n",
    "       a = img_file.read(2)\n",
    "\n",
    "       # calculate height\n",
    "       height = (a[0] << 8) + a[1]\n",
    "\n",
    "       # next 2 bytes is width\n",
    "       a = img_file.read(2)\n",
    "\n",
    "       # calculate width\n",
    "       width = (a[0] << 8) + a[1]\n",
    "\n",
    "   print(\"Resolusi gambar adalah\",width,\"x\",height)\n",
    "\n",
    "jpeg_res(\"task_python/pythonimage.webp\")"
   ]
  },
  {
   "cell_type": "code",
   "execution_count": 93,
   "id": "13e6de7c-cf9c-43f5-b65f-9b417d96dec4",
   "metadata": {},
   "outputs": [
    {
     "name": "stdout",
     "output_type": "stream",
     "text": [
      "1102213211_TantoWijaya\n",
      "93990f4d09b1de60ab716cf97c1ec44f43f1afbc\n"
     ]
    }
   ],
   "source": [
    "print('1102213211_TantoWijaya')\n",
    "# Example Number 46: Mencari File Hash\n",
    "\n",
    "# importing the hashlib module\n",
    "import hashlib\n",
    "\n",
    "def hash_file(filename):\n",
    "   \"\"\"\"This function returns the SHA-1 hash\n",
    "   of the file passed into it\"\"\"\n",
    "\n",
    "   # make a hash object\n",
    "   h = hashlib.sha1()\n",
    "\n",
    "   # open file for reading in binary mode\n",
    "   with open(filename,'rb') as file:\n",
    "\n",
    "       # loop till the end of the file\n",
    "       chunk = 0\n",
    "       while chunk != b'':\n",
    "           # read only 1024 bytes at a time\n",
    "           chunk = file.read(1024)\n",
    "           h.update(chunk)\n",
    "\n",
    "   # return the hex representation of digest\n",
    "   return h.hexdigest()\n",
    "\n",
    "message = hash_file(\"task_python/pythonimage.webp\")\n",
    "print(message)"
   ]
  },
  {
   "cell_type": "code",
   "execution_count": 94,
   "id": "f62987cd-267e-4365-b971-3c1d96afccd6",
   "metadata": {},
   "outputs": [
    {
     "name": "stdout",
     "output_type": "stream",
     "text": [
      "1102213211_TantoWijaya\n"
     ]
    },
    {
     "name": "stdin",
     "output_type": "stream",
     "text": [
      "Enter number of rows:  8\n"
     ]
    },
    {
     "name": "stdout",
     "output_type": "stream",
     "text": [
      "              * \n",
      "            * * * \n",
      "          * * * * * \n",
      "        * * * * * * * \n",
      "      * * * * * * * * * \n",
      "    * * * * * * * * * * * \n",
      "  * * * * * * * * * * * * * \n",
      "* * * * * * * * * * * * * * * \n"
     ]
    }
   ],
   "source": [
    "print('1102213211_TantoWijaya')\n",
    "# Example Number 47: Membuat pola piramida\n",
    "\n",
    "rows = int(input(\"Enter number of rows: \"))\n",
    "\n",
    "k = 0\n",
    "\n",
    "for i in range(1, rows+1):\n",
    "    for space in range(1, (rows-i)+1):\n",
    "        print(end=\"  \")\n",
    "   \n",
    "    while k!=(2*i-1):\n",
    "        print(\"* \", end=\"\")\n",
    "        k += 1\n",
    "   \n",
    "    k = 0\n",
    "    print()"
   ]
  },
  {
   "cell_type": "code",
   "execution_count": 95,
   "id": "155ed874-8327-4d9a-8452-1284b5f8b675",
   "metadata": {},
   "outputs": [
    {
     "name": "stdout",
     "output_type": "stream",
     "text": [
      "1102213211_TantoWijaya\n",
      "{1: 'a', 2: 'c', 4: 'd'}\n",
      "{1: 'a', 2: 'c', 4: 'd'}\n",
      "{2: 'b', 4: 'd', 1: 'a'}\n"
     ]
    }
   ],
   "source": [
    "print('1102213211_TantoWijaya')\n",
    "# Example Number 48: Merge dua direktrori\n",
    "\n",
    "dict_1 = {1: 'a', 2: 'b'}\n",
    "dict_2 = {2: 'c', 4: 'd'}\n",
    "\n",
    "# using the | operator\n",
    "print(dict_1 | dict_2)\n",
    "\n",
    "# using the ** operator\n",
    "print({**dict_1, **dict_2})\n",
    "\n",
    "# using copy() and update()\n",
    "dict_3 = dict_2.copy()\n",
    "dict_3.update(dict_1)\n",
    "\n",
    "print(dict_3)"
   ]
  },
  {
   "cell_type": "code",
   "execution_count": 117,
   "id": "6d3eb2af-d678-4d08-bb66-b5a3149763c9",
   "metadata": {},
   "outputs": [
    {
     "name": "stdout",
     "output_type": "stream",
     "text": [
      "1102213211_TantoWijaya\n"
     ]
    }
   ],
   "source": [
    "print('1102213211_TantoWijaya')\n",
    "# Example Number 49: Create a Nested Directory\n",
    "\n",
    "import os\n",
    "os.makedirs(\"task_python/dirA\")"
   ]
  },
  {
   "cell_type": "code",
   "execution_count": 97,
   "id": "fea9d724-fd66-40b4-adf3-a701162d849e",
   "metadata": {},
   "outputs": [
    {
     "name": "stdout",
     "output_type": "stream",
     "text": [
      "1102213211_TantoWijaya\n",
      "Menggunakan enumerate():\n",
      "1 21\n",
      "2 44\n",
      "3 35\n",
      "4 11\n",
      "Tanpa menggunakan enumerate():\n",
      "0 21\n",
      "1 44\n",
      "2 35\n",
      "3 11\n"
     ]
    }
   ],
   "source": [
    "print('1102213211_TantoWijaya')\n",
    "# Example Number 50: Akses index menggunakan for loop\n",
    "\n",
    "my_list = [21, 44, 35, 11]\n",
    "\n",
    "print(\"Menggunakan enumerate():\")\n",
    "\n",
    "for index, val in enumerate(my_list, start=1):\n",
    "    print(index, val)\n",
    "\n",
    "print(\"Tanpa menggunakan enumerate():\")\n",
    "\n",
    "for index in range(len(my_list)):\n",
    "    value = my_list[index]\n",
    "    print(index, value)"
   ]
  },
  {
   "cell_type": "code",
   "execution_count": 98,
   "id": "71c8512d-9ee7-4dfc-8c6f-78ede5130c88",
   "metadata": {},
   "outputs": [
    {
     "name": "stdout",
     "output_type": "stream",
     "text": [
      "1102213211_TantoWijaya\n",
      "[1, 2, 3, 4, 5, 6, 7]\n",
      "[1, 2, 3, 4, 5, 6, 7]\n"
     ]
    }
   ],
   "source": [
    "print('1102213211_TantoWijaya')\n",
    "# Example Number 51: Flatten a Nested List\n",
    "\n",
    "my_list = [[1], [2, 3], [4, 5, 6, 7]]\n",
    "\n",
    "# using nested for loops\n",
    "flat_list = []\n",
    "for sublist in my_list:\n",
    "    for num in sublist:\n",
    "        flat_list.append(num)\n",
    "\n",
    "print(flat_list)\n",
    "\n",
    "# using itertools package\n",
    "import itertools\n",
    "\n",
    "my_list = [[1], [2, 3], [4, 5, 6, 7]]\n",
    "\n",
    "flat_list = list(itertools.chain(*my_list))\n",
    "print(flat_list)"
   ]
  },
  {
   "cell_type": "code",
   "execution_count": 101,
   "id": "f1981bbd-8653-4625-8642-942d74de5c91",
   "metadata": {},
   "outputs": [
    {
     "name": "stdout",
     "output_type": "stream",
     "text": [
      "1102213211_TantoWijaya\n",
      "[1, 2, 3, 4, 5]\n",
      "[3, 4, 5]\n",
      "[1, 2]\n",
      "[3, 4]\n",
      "[1, 4]\n",
      "[5, 3, 1]\n",
      "[2, 4]\n"
     ]
    }
   ],
   "source": [
    "print('1102213211_TantoWijaya')\n",
    "# Example Number 52: Slice Lists\n",
    "\n",
    "my_list = [1, 2, 3, 4, 5]\n",
    "\n",
    "print(my_list[:])\n",
    "print(my_list[2:])\n",
    "print(my_list[:2])\n",
    "print(my_list[2:4])\n",
    "# interval\n",
    "print(my_list[::3])\n",
    "print(my_list[::-2])\n",
    "print(my_list[1:4:2])"
   ]
  },
  {
   "cell_type": "code",
   "execution_count": 104,
   "id": "bcac41fe-6972-46c3-b56d-a96e4c921a8d",
   "metadata": {},
   "outputs": [
    {
     "name": "stdout",
     "output_type": "stream",
     "text": [
      "1102213211_TantoWijaya\n",
      "a juice\n",
      "b grill\n",
      "c corn\n",
      "---------------------------\n",
      "a juice\n",
      "b grill\n",
      "c corn\n",
      "---------------------------\n",
      "a\n",
      "b\n",
      "c\n",
      "juice\n",
      "grill\n",
      "corn\n"
     ]
    }
   ],
   "source": [
    "print('1102213211_TantoWijaya')\n",
    "# Example Number 53: Iterate Over Dictionaries Using for Loop\n",
    "\n",
    "dt = {'a': 'juice', 'b': 'grill', 'c': 'corn'}\n",
    "\n",
    "# access both key and value using items()\n",
    "for key, value in dt.items():\n",
    "    print(key, value)\n",
    "\n",
    "print(\"---------------------------\")\n",
    "# access both key and value without using items()\n",
    "for key in dt:\n",
    "    print(key, dt[key])\n",
    "\n",
    "print(\"---------------------------\")\n",
    "# return keys or values explicitly\n",
    "for key in dt.keys():\n",
    "    print(key)\n",
    "for value in dt.values():\n",
    "    print(value)"
   ]
  },
  {
   "cell_type": "code",
   "execution_count": 105,
   "id": "e3224c92-83b4-4ff1-8aa4-f098dc83b3f9",
   "metadata": {},
   "outputs": [
    {
     "name": "stdout",
     "output_type": "stream",
     "text": [
      "1102213211_TantoWijaya\n",
      "{6: 3, 5: 4, 1: 6}\n",
      "[3, 4, 6]\n"
     ]
    }
   ],
   "source": [
    "print('1102213211_TantoWijaya')\n",
    "# Example Number 54: Sort a Dictionary by Value\n",
    "\n",
    "dt = {5:4, 1:6, 6:3}\n",
    "\n",
    "# sort the dictionary based on values\n",
    "sorted_dt = {key: value for key, value in sorted(dt.items(), key=lambda item: item[1])}\n",
    "print(sorted_dt)\n",
    "\n",
    "# sort only the values\n",
    "sorted_dt_value = sorted(dt.values())\n",
    "print(sorted_dt_value)"
   ]
  },
  {
   "cell_type": "code",
   "execution_count": 107,
   "id": "205e2dbc-778e-417d-8a36-cb281bd4ccd8",
   "metadata": {},
   "outputs": [
    {
     "name": "stdout",
     "output_type": "stream",
     "text": [
      "1102213211_TantoWijaya\n",
      "the list is empty\n",
      "the list is empty\n",
      "the list is empty\n"
     ]
    }
   ],
   "source": [
    "print('1102213211_TantoWijaya')\n",
    "# Example Number 55: Check if a list is empty\n",
    "\n",
    "my_list = []\n",
    "\n",
    "# using boolean operation\n",
    "if not my_list:\n",
    "    print(\"the list is empty\")\n",
    "\n",
    "# using len()\n",
    "if not len(my_list):\n",
    "    print(\"the list is empty\")\n",
    "\n",
    "# comparing with []\n",
    "if my_list == []:\n",
    "    print(\"the list is empty\")"
   ]
  },
  {
   "cell_type": "code",
   "execution_count": 112,
   "id": "bf43da55-39b7-42fd-b86b-27732e2bd7ce",
   "metadata": {},
   "outputs": [
    {
     "name": "stdout",
     "output_type": "stream",
     "text": [
      "1102213211_TantoWijaya\n"
     ]
    },
    {
     "name": "stdin",
     "output_type": "stream",
     "text": [
      " a\n",
      " 5\n"
     ]
    },
    {
     "name": "stdout",
     "output_type": "stream",
     "text": [
      "can only concatenate str (not \"int\") to str\n"
     ]
    }
   ],
   "source": [
    "print('1102213211_TantoWijaya')\n",
    "# Example Number 56: Catch Multiple Exceptions in One Line\n",
    "\n",
    "string = input()\n",
    "\n",
    "try:\n",
    "    num = int(input())\n",
    "    print(string+num)\n",
    "except (TypeError, ValueError) as e:\n",
    "    print(e)"
   ]
  },
  {
   "cell_type": "code",
   "execution_count": 116,
   "id": "f48778db-1879-46f7-b07a-8f11471d671e",
   "metadata": {},
   "outputs": [
    {
     "name": "stdout",
     "output_type": "stream",
     "text": [
      "1102213211_TantoWijaya\n"
     ]
    },
    {
     "data": {
      "text/plain": [
       "'task_python/copynames.txt'"
      ]
     },
     "execution_count": 116,
     "metadata": {},
     "output_type": "execute_result"
    }
   ],
   "source": [
    "print('1102213211_TantoWijaya')\n",
    "# Example Number 57: Copy a File\n",
    "\n",
    "from shutil import copyfile\n",
    "copyfile(\"task_python/names.txt\", \"task_python/copynames.txt\")"
   ]
  },
  {
   "cell_type": "code",
   "execution_count": 1,
   "id": "1a52e022-e96a-4b24-80f8-1d8dc2648865",
   "metadata": {},
   "outputs": [
    {
     "name": "stdout",
     "output_type": "stream",
     "text": [
      "1102213211_TantoWijaya\n",
      "[1, 'a', 3, 4, 5]\n",
      "[1, 'a', 3, 4, 5]\n",
      "[1, 3, 4, 5, 'a']\n",
      "[3, 4, 5, 1, 'a']\n"
     ]
    }
   ],
   "source": [
    "print('1102213211_TantoWijaya')\n",
    "# Example Number 58: Concatenate Two Lists\n",
    "\n",
    "list_1 = [1, 'a']\n",
    "list_2 = [3, 4, 5]\n",
    "\n",
    "# using + operator\n",
    "list_joined1 = list_1 + list_2\n",
    "print(list_joined1)\n",
    "\n",
    "# using iterable unpacking operator *\n",
    "list_joined2 = [*list_1, *list_2]\n",
    "print(list_joined2)\n",
    "\n",
    "# with unique values\n",
    "list_joined3 = list(set(list_1 + list_2))\n",
    "print(list_joined3)\n",
    "\n",
    "# using extend()\n",
    "list_2.extend(list_1)\n",
    "print(list_2)"
   ]
  },
  {
   "cell_type": "code",
   "execution_count": 5,
   "id": "ab605236-ea40-4c28-8c55-5a2c61af060f",
   "metadata": {},
   "outputs": [
    {
     "name": "stdout",
     "output_type": "stream",
     "text": [
      "1102213211_TantoWijaya\n",
      "present\n"
     ]
    }
   ],
   "source": [
    "print('1102213211_TantoWijaya')\n",
    "# Example Number 59: Check if a Key is Already Present in a Dictionary\n",
    "\n",
    "my_dict = {1: 'a', 2: 'b', 3: 'c'}\n",
    "\n",
    "if 3 in my_dict:\n",
    "    print(\"present\")"
   ]
  },
  {
   "cell_type": "code",
   "execution_count": 10,
   "id": "9d4aef03-1d71-4728-80a8-1474c69debe7",
   "metadata": {},
   "outputs": [
    {
     "name": "stdout",
     "output_type": "stream",
     "text": [
      "1102213211_TantoWijaya\n",
      "[[1, 2, 3], [4, 5, 6], [7, 8, 9]]\n",
      "[array([1, 2, 3]), array([4, 5]), array([6, 7]), array([8, 9])]\n"
     ]
    }
   ],
   "source": [
    "print('1102213211_TantoWijaya')\n",
    "# Example Number 60: Split a List Into Evenly Sized Chunks\n",
    "\n",
    "my_list = [1,2,3,4,5,6,7,8,9]\n",
    "\n",
    "# using yield\n",
    "def split(list_a, chunk_size):\n",
    "\n",
    "  for i in range(0, len(list_a), chunk_size):\n",
    "    yield list_a[i:i + chunk_size]\n",
    "\n",
    "chunk_size = 3\n",
    "# my_list = [1,2,3,4,5,6,7,8,9]\n",
    "print(list(split(my_list, chunk_size)))\n",
    "\n",
    "# using numpy\n",
    "import numpy as np\n",
    "\n",
    "print(np.array_split(my_list, 4))"
   ]
  },
  {
   "cell_type": "code",
   "execution_count": 14,
   "id": "b7f99853-3a2e-4f50-92d0-c0ed9b3e9130",
   "metadata": {},
   "outputs": [
    {
     "name": "stdout",
     "output_type": "stream",
     "text": [
      "1102213211_TantoWijaya\n",
      "<class 'int'>\n",
      "1500\n",
      "<class 'float'>\n",
      "1500.4\n",
      "<class 'int'>\n",
      "1500\n"
     ]
    }
   ],
   "source": [
    "print('1102213211_TantoWijaya')\n",
    "# Example Number 61: Parse a String to a Float or Int\n",
    "\n",
    "# parse string into integer\n",
    "balance_str1 = \"1500\"\n",
    "balance_int1 = int(balance_str1)\n",
    "\n",
    "print(type(balance_int1))\n",
    "print(balance_int1)\n",
    "\n",
    "# parse string into float\n",
    "balance_str2 = \"1500.4\"\n",
    "balance_float = float(balance_str2)\n",
    "\n",
    "print(type(balance_float))\n",
    "print(balance_float)\n",
    "\n",
    "# string float numeral into integer\n",
    "balance_str3 = \"1500.8\"\n",
    "balance_int3 = int(float(balance_str3))\n",
    "\n",
    "print(type(balance_int3))\n",
    "print(balance_int3)"
   ]
  },
  {
   "cell_type": "code",
   "execution_count": 18,
   "id": "aaf456f4-db61-4fe5-bce3-849957ee02de",
   "metadata": {},
   "outputs": [
    {
     "name": "stdout",
     "output_type": "stream",
     "text": [
      "1102213211_TantoWijaya\n",
      "\u001b[38;2;5;86;243mTantoWijaya\u001b[0m\n",
      "\u001b[32mTantoWijaya\u001b[0m\n"
     ]
    }
   ],
   "source": [
    "print('1102213211_TantoWijaya')\n",
    "# Example Number 62: Print Colored Text to the Terminal\n",
    "\n",
    "# using ANSI escape sequences\n",
    "print('\\x1b[38;2;5;86;243m' + 'TantoWijaya' + '\\x1b[0m')\n",
    "\n",
    "# using python module termcolor\n",
    "from termcolor import colored\n",
    "print(colored('TantoWijaya', 'green'))"
   ]
  },
  {
   "cell_type": "code",
   "execution_count": 25,
   "id": "d75a3060-969d-4201-9443-5d99f1e94c3c",
   "metadata": {},
   "outputs": [
    {
     "name": "stdout",
     "output_type": "stream",
     "text": [
      "1102213211_TantoWijaya\n",
      "<class 'datetime.datetime'>\n",
      "2023-09-26 19:11:00\n",
      "<class 'datetime.datetime'>\n",
      "2023-09-26 19:17:00\n"
     ]
    }
   ],
   "source": [
    "print('1102213211_TantoWijaya')\n",
    "# Example Number 63: Convert String to Datetime\n",
    "\n",
    "# using datetime module\n",
    "from datetime import datetime\n",
    "\n",
    "my_date_string = \"Sep 26 2023 7:11PM\"\n",
    "\n",
    "datetime_object = datetime.strptime(my_date_string, '%b %d %Y %I:%M%p')\n",
    "\n",
    "print(type(datetime_object))\n",
    "print(datetime_object)\n",
    "\n",
    "# using dateutil module\n",
    "from dateutil import parser\n",
    "\n",
    "date_time = parser.parse(\"Sep 26 2023 7:17PM\")\n",
    "\n",
    "print(type(date_time))\n",
    "print(date_time)"
   ]
  },
  {
   "cell_type": "code",
   "execution_count": 29,
   "id": "2cefe133-a53e-43cf-9d80-f168f5bc68e6",
   "metadata": {},
   "outputs": [
    {
     "name": "stdout",
     "output_type": "stream",
     "text": [
      "1102213211_TantoWijaya\n",
      "g\n"
     ]
    }
   ],
   "source": [
    "print('1102213211_TantoWijaya')\n",
    "# Example Number 64: Get the Last Element of the List\n",
    "\n",
    "my_list = ['a', 'b', 'c', 'd', 'e', 'f', 'g']\n",
    "print(my_list[-1])"
   ]
  },
  {
   "cell_type": "code",
   "execution_count": 32,
   "id": "164be0c2-bca1-4928-a421-f94b1038d619",
   "metadata": {},
   "outputs": [
    {
     "name": "stdout",
     "output_type": "stream",
     "text": [
      "1102213211_TantoWijaya\n",
      "lov\n",
      "ove python.\n",
      "I love python\n"
     ]
    }
   ],
   "source": [
    "print('1102213211_TantoWijaya')\n",
    "# Example Number 65: Get a Substring of a String\n",
    "\n",
    "my_string = \"I love python.\"\n",
    "\n",
    "# prints \"love\"\n",
    "print(my_string[2:5])\n",
    "\n",
    "# prints \"love python.\"\n",
    "print(my_string[3:])\n",
    "\n",
    "# prints \"I love python\"\n",
    "print(my_string[:-1])"
   ]
  },
  {
   "cell_type": "code",
   "execution_count": 33,
   "id": "78da0746-d06a-411f-8cf6-be622c1d3d5e",
   "metadata": {},
   "outputs": [
    {
     "name": "stdout",
     "output_type": "stream",
     "text": [
      "1102213211_TantoWijaya\n",
      "Python\n",
      "is easy to learn.\n",
      "\n",
      "Python is easy to learn.\n"
     ]
    }
   ],
   "source": [
    "print('1102213211_TantoWijaya')\n",
    "# Example Number 66: Print Output Without a Newline\n",
    "\n",
    "# print each statement on a new line\n",
    "print(\"Python\")\n",
    "print(\"is easy to learn.\")\n",
    "\n",
    "# new line\n",
    "print()\n",
    "\n",
    "# print both the statements on a single line\n",
    "print(\"Python\", end=\" \")\n",
    "print(\"is easy to learn.\")"
   ]
  },
  {
   "cell_type": "code",
   "execution_count": 35,
   "id": "163d56a1-40c9-4001-9ff1-b93965dad7ea",
   "metadata": {},
   "outputs": [
    {
     "name": "stdout",
     "output_type": "stream",
     "text": [
      "1102213211_TantoWijaya\n",
      "['semester 5\\n', 'tingkat 3\\n', 'tahun 2023']\n",
      "['semester 5', 'tingkat 3', 'tahun 2023']\n"
     ]
    }
   ],
   "source": [
    "print('1102213211_TantoWijaya')\n",
    "# Example Number 67: Read a File Line by Line Into a List\n",
    "\n",
    "# using readlines()\n",
    "with open(\"task_python/filename.txt\") as f:\n",
    "    content_list = f.readlines()\n",
    "\n",
    "# print the list\n",
    "print(content_list)\n",
    "\n",
    "# remove new line characters\n",
    "content_list = [x.strip() for x in content_list]\n",
    "print(content_list)"
   ]
  },
  {
   "cell_type": "code",
   "execution_count": 39,
   "id": "117bb4e1-bd5a-41bd-88ff-2ab43cb827f1",
   "metadata": {},
   "outputs": [
    {
     "name": "stdout",
     "output_type": "stream",
     "text": [
      "1102213211_TantoWijaya\n",
      "a\n",
      "31\n"
     ]
    }
   ],
   "source": [
    "print('1102213211_TantoWijaya')\n",
    "# Example Number 68: Randomly Select an Element From the List\n",
    "\n",
    "my_list = [1, 'a', 32, 'c', 'd', 31]\n",
    "\n",
    "# using random module\n",
    "import random\n",
    "print(random.choice(my_list))\n",
    "\n",
    "# using secrets module\n",
    "import secrets\n",
    "print(secrets.choice(my_list))"
   ]
  },
  {
   "cell_type": "code",
   "execution_count": 40,
   "id": "258289c9-59fe-46dd-a131-d0e120714838",
   "metadata": {},
   "outputs": [
    {
     "name": "stdout",
     "output_type": "stream",
     "text": [
      "1102213211_TantoWijaya\n",
      "False\n",
      "True\n",
      "True\n"
     ]
    }
   ],
   "source": [
    "print('1102213211_TantoWijaya')\n",
    "# Example Number 69: Check If a String Is a Number (Float)\n",
    "\n",
    "def isfloat(num):\n",
    "    try:\n",
    "        float(num)\n",
    "        return True\n",
    "    except ValueError:\n",
    "        return False\n",
    "\n",
    "print(isfloat('s12'))\n",
    "print(isfloat('123'))\n",
    "print(isfloat('1.123'))"
   ]
  },
  {
   "cell_type": "code",
   "execution_count": 42,
   "id": "3e81a3e3-c4a3-49b2-9101-1f93f1b3bb78",
   "metadata": {},
   "outputs": [
    {
     "name": "stdout",
     "output_type": "stream",
     "text": [
      "1102213211_TantoWijaya\n",
      "3\n"
     ]
    }
   ],
   "source": [
    "print('1102213211_TantoWijaya')\n",
    "# Example Number 70: Count the Occurrence of an Item in a List\n",
    "\n",
    "my_list = ['a', 1, 'a', 4, 3, 2, 'a']\n",
    "freq = my_list.count('a')\n",
    "print(freq)"
   ]
  },
  {
   "cell_type": "code",
   "execution_count": 45,
   "id": "fa27183f-db07-4287-a817-f3158516a823",
   "metadata": {},
   "outputs": [
    {
     "name": "stdout",
     "output_type": "stream",
     "text": [
      "1102213211_TantoWijaya\n"
     ]
    }
   ],
   "source": [
    "print('1102213211_TantoWijaya')\n",
    "# Example Number 71: Append to a File\n",
    "\n",
    "with open(\"task_python/filename.txt\", \"a\") as f:\n",
    "   f.write(\"Telkom University\")"
   ]
  },
  {
   "cell_type": "code",
   "execution_count": 48,
   "id": "e6eb38ad-dac0-4796-b41f-f259674110e4",
   "metadata": {},
   "outputs": [
    {
     "name": "stdout",
     "output_type": "stream",
     "text": [
      "1102213211_TantoWijaya\n",
      "{31: 'a', 14: 'c'}\n",
      "c\n",
      "{31: 'a'}\n"
     ]
    }
   ],
   "source": [
    "print('1102213211_TantoWijaya')\n",
    "# Example Number 72: Delete an Element From a Dictionary\n",
    "\n",
    "my_dict = {31: 'a', 21: 'b', 14: 'c'}\n",
    "\n",
    "# using del keyword\n",
    "del my_dict[21]\n",
    "print(my_dict)\n",
    "\n",
    "# using pop()\n",
    "print(my_dict.pop(14))\n",
    "print(my_dict)"
   ]
  },
  {
   "cell_type": "code",
   "execution_count": 51,
   "id": "14501034-ce7a-4e70-ad7e-505932889afb",
   "metadata": {},
   "outputs": [
    {
     "name": "stdout",
     "output_type": "stream",
     "text": [
      "1102213211_TantoWijaya\n",
      "The only way to\n",
      "learn to program is\n",
      "by writing code.\n",
      "Tugas 1 \n",
      "Mata Kuliah \n",
      "Kecerdasan Buatan.\n",
      "Belajar \n",
      "Pemrograman \n",
      "Python.\n"
     ]
    }
   ],
   "source": [
    "print('1102213211_TantoWijaya')\n",
    "# Example Number 73: Create a Long Multiline String\n",
    "\n",
    "# using triple quotes\n",
    "my_string = '''The only way to\n",
    "learn to program is\n",
    "by writing code.'''\n",
    "\n",
    "print(my_string)\n",
    "\n",
    "# using parentheses and a single/double quotes\n",
    "my_string1 = (\"Tugas 1 \\n\"\n",
    "        \t\"Mata Kuliah \\n\"\n",
    "        \t\"Kecerdasan Buatan.\")\n",
    "\n",
    "print(my_string1)\n",
    "\n",
    "# using /\n",
    "my_string2 = \"Belajar \\n\" \\\n",
    "        \t\"Pemrograman \\n\" \\\n",
    "        \t\"Python.\"\n",
    "\n",
    "print(my_string2)"
   ]
  },
  {
   "cell_type": "code",
   "execution_count": 53,
   "id": "ebe4b0a0-d0f5-43af-8c64-b8faa8119259",
   "metadata": {},
   "outputs": [
    {
     "name": "stdout",
     "output_type": "stream",
     "text": [
      "1102213211_TantoWijaya\n",
      "('task_python/pythonimage', '.webp')\n",
      ".webp\n",
      ".webp\n"
     ]
    }
   ],
   "source": [
    "print('1102213211_TantoWijaya')\n",
    "# Example Number 74: Extract Extension From the File Name\n",
    "\n",
    "# using splitext() method from os module\n",
    "import os\n",
    "file_details = os.path.splitext('task_python/pythonimage.webp')\n",
    "print(file_details)\n",
    "print(file_details[1])\n",
    "\n",
    "# using pathlib module\n",
    "import pathlib\n",
    "print(pathlib.Path('task_python/pythonimage.webp').suffix)"
   ]
  },
  {
   "cell_type": "code",
   "execution_count": 57,
   "id": "8fa27cc4-463e-4cd7-afbd-281cf67ec11d",
   "metadata": {},
   "outputs": [
    {
     "name": "stdout",
     "output_type": "stream",
     "text": [
      "1102213211_TantoWijaya\n",
      "52.9\n",
      "0.0\n",
      "52.9\n",
      "2.7099999897473026e-05\n"
     ]
    }
   ],
   "source": [
    "print('1102213211_TantoWijaya')\n",
    "# Example Number 75: Measure the Elapsed Time in Python\n",
    "\n",
    "# using time module\n",
    "import time\n",
    "\n",
    "start1 = time.time()\n",
    "\n",
    "print(23*2.3)\n",
    "\n",
    "end1 = time.time()\n",
    "print(end1 - start1)\n",
    "\n",
    "# using timeit module\n",
    "from timeit import default_timer as timer\n",
    "\n",
    "start2 = timer()\n",
    "\n",
    "print(23*2.3)\n",
    "\n",
    "end2 = timer()\n",
    "print(end2 - start2)"
   ]
  },
  {
   "cell_type": "code",
   "execution_count": 60,
   "id": "834d291d-d42e-43a5-aab5-356555e5b8bb",
   "metadata": {},
   "outputs": [
    {
     "name": "stdout",
     "output_type": "stream",
     "text": [
      "1102213211_TantoWijaya\n",
      "Vehicle\n",
      "<class '__main__.Vehicle'>\n",
      "Vehicle\n"
     ]
    }
   ],
   "source": [
    "print('1102213211_TantoWijaya')\n",
    "# Example Number 76: Get the Class Name of an Instance\n",
    "\n",
    "# using __class__.__name__\n",
    "class Vehicle:\n",
    "    def name(self, name):\n",
    "        return name\n",
    "\n",
    "v = Vehicle()\n",
    "print(v.__class__.__name__)\n",
    "\n",
    "# using type() and __name__ attribute\n",
    "class Vehicle:\n",
    "    def name(self, name):\n",
    "        return name\n",
    "\n",
    "v = Vehicle()\n",
    "print(type(v))\n",
    "print(type(v).__name__)"
   ]
  },
  {
   "cell_type": "code",
   "execution_count": 62,
   "id": "21c7c925-5f9b-4726-b557-d0fc57c89e5d",
   "metadata": {},
   "outputs": [
    {
     "name": "stdout",
     "output_type": "stream",
     "text": [
      "1102213211_TantoWijaya\n",
      "{1: 'python', 2: 'c', 3: 'c++'}\n",
      "{4: 'java', 5: 'typescript', 6: 'golang'}\n"
     ]
    }
   ],
   "source": [
    "print('1102213211_TantoWijaya')\n",
    "# Example Number 77: Convert Two Lists Into a Dictionary\n",
    "\n",
    "# using zip and dict methods\n",
    "index = [1, 2, 3]\n",
    "languages = ['python', 'c', 'c++']\n",
    "\n",
    "dictionary = dict(zip(index, languages))\n",
    "print(dictionary)\n",
    "\n",
    "# using list comprehension\n",
    "index = [4, 5, 6]\n",
    "languages = ['java', 'typescript', 'golang']\n",
    "\n",
    "dictionary = {k: v for k, v in zip(index, languages)}\n",
    "print(dictionary)"
   ]
  },
  {
   "cell_type": "code",
   "execution_count": 63,
   "id": "cfbcaee8-92d5-4f66-84f7-d99d455505b8",
   "metadata": {},
   "outputs": [
    {
     "name": "stdout",
     "output_type": "stream",
     "text": [
      "1102213211_TantoWijaya\n",
      "True\n",
      "False\n",
      "True\n",
      "True\n"
     ]
    }
   ],
   "source": [
    "print('1102213211_TantoWijaya')\n",
    "# Example Number 78: Differentiate Between type() and isinstance()\n",
    "\n",
    "class Polygon:\n",
    "    def sides_no(self):\n",
    "        pass\n",
    "\n",
    "class Triangle(Polygon):\n",
    "    def area(self):\n",
    "        pass\n",
    "\n",
    "obj_polygon = Polygon()\n",
    "obj_triangle = Triangle()\n",
    "\n",
    "print(type(obj_triangle) == Triangle)   \t# true\n",
    "print(type(obj_triangle) == Polygon)    \t# false\n",
    "\n",
    "print(isinstance(obj_polygon, Polygon)) \t# true\n",
    "print(isinstance(obj_triangle, Polygon))\t# true"
   ]
  },
  {
   "cell_type": "code",
   "execution_count": 70,
   "id": "33f220d4-4d3a-431a-a11f-c38517d35b83",
   "metadata": {},
   "outputs": [
    {
     "name": "stdout",
     "output_type": "stream",
     "text": [
      "1102213211_TantoWijaya\n",
      "Python\n",
      "Python Programming\n"
     ]
    }
   ],
   "source": [
    "print('1102213211_TantoWijaya')\n",
    "# Example Number 79: Trim Whitespace From a String\n",
    "\n",
    "# using strip()\n",
    "my_string = \" Python \"\n",
    "my_string2 = \" Python Programming \"\n",
    "print(my_string.strip())\n",
    "print(my_string2.strip())"
   ]
  },
  {
   "cell_type": "code",
   "execution_count": 71,
   "id": "a75ad47e-d866-48b4-a629-093f121f8593",
   "metadata": {},
   "outputs": [
    {
     "name": "stdout",
     "output_type": "stream",
     "text": [
      "1102213211_TantoWijaya\n",
      "pythonimage\n"
     ]
    }
   ],
   "source": [
    "print('1102213211_TantoWijaya')\n",
    "# Example Number 80: Get the File Name From the File Path\n",
    "\n",
    "import os\n",
    "\n",
    "# file name with extension\n",
    "file_name = os.path.basename('task_python/pythonimage.webp')\n",
    "\n",
    "# file name without extension\n",
    "print(os.path.splitext(file_name)[0])"
   ]
  },
  {
   "cell_type": "code",
   "execution_count": 73,
   "id": "a3830fdf-3ae5-490b-a081-b084d03efc9c",
   "metadata": {},
   "outputs": [
    {
     "name": "stdout",
     "output_type": "stream",
     "text": [
      "1102213211_TantoWijaya\n",
      "Day.WEDNESDAY\n",
      "WEDNESDAY\n",
      "3\n"
     ]
    }
   ],
   "source": [
    "print('1102213211_TantoWijaya')\n",
    "# Example Number 81: Represent enum\n",
    "\n",
    "from enum import Enum\n",
    "\n",
    "class Day(Enum):\n",
    "    MONDAY = 1\n",
    "    TUESDAY = 2\n",
    "    WEDNESDAY = 3\n",
    "\n",
    "# print the enum member\n",
    "print(Day.WEDNESDAY)\n",
    "\n",
    "# get the name of the enum member\n",
    "print(Day.WEDNESDAY.name)\n",
    "\n",
    "# get the value of the enum member\n",
    "print(Day.WEDNESDAY.value)"
   ]
  },
  {
   "cell_type": "code",
   "execution_count": 74,
   "id": "d8fdea8a-9020-4cda-9e01-f35c16d5da9e",
   "metadata": {},
   "outputs": [
    {
     "name": "stdout",
     "output_type": "stream",
     "text": [
      "1102213211_TantoWijaya\n",
      "('Tanto', 'Wijaya')\n",
      "Tanto Wijaya\n"
     ]
    }
   ],
   "source": [
    "print('1102213211_TantoWijaya')\n",
    "# Example Number 82: Return Multiple Values From a Function\n",
    "\n",
    "def name():\n",
    "    return \"Tanto\",\"Wijaya\"\n",
    "\n",
    "# print the tuple with the returned values\n",
    "print(name())\n",
    "\n",
    "# get the individual items\n",
    "name_1, name_2 = name()\n",
    "print(name_1, name_2)"
   ]
  },
  {
   "cell_type": "code",
   "execution_count": 75,
   "id": "97f4c0fe-9036-4ad5-b6e6-09915cd36f45",
   "metadata": {},
   "outputs": [
    {
     "name": "stdout",
     "output_type": "stream",
     "text": [
      "1102213211_TantoWijaya\n",
      "3\n"
     ]
    }
   ],
   "source": [
    "print('1102213211_TantoWijaya')\n",
    "# Example Number 83: Get Line Count of a File\n",
    "\n",
    "def file_len(fname):\n",
    "    with open(fname) as f:\n",
    "        for i, l in enumerate(f):\n",
    "            pass\n",
    "    return i + 1\n",
    "\n",
    "print(file_len(\"task_python/filename.txt\"))"
   ]
  },
  {
   "cell_type": "code",
   "execution_count": 76,
   "id": "83a262ea-611c-474d-be76-51bda097b2ae",
   "metadata": {},
   "outputs": [
    {
     "name": "stdout",
     "output_type": "stream",
     "text": [
      "1102213211_TantoWijaya\n",
      "body.txt\n",
      "copynames.txt\n",
      "filename.txt\n",
      "names.txt\n"
     ]
    }
   ],
   "source": [
    "print('1102213211_TantoWijaya')\n",
    "# Example Number 84: Find All File with .txt Extension Present Inside a Directory\n",
    "\n",
    "import glob, os\n",
    "\n",
    "os.chdir(\"task_python\")\n",
    "\n",
    "for file in glob.glob(\"*.txt\"):\n",
    "    print(file)"
   ]
  },
  {
   "cell_type": "code",
   "execution_count": 5,
   "id": "67f98fbe-4b23-4b18-93c9-b9a69ee67d88",
   "metadata": {},
   "outputs": [
    {
     "name": "stdout",
     "output_type": "stream",
     "text": [
      "1102213211_TantoWijaya\n",
      "Last modification time: Tue Sep 26 19:36:21 2023\n",
      "Last metadata change time or path creation time: Tue Sep 26 19:24:30 2023\n"
     ]
    }
   ],
   "source": [
    "print('1102213211_TantoWijaya')\n",
    "# Example Number 85: Get File Creation and Modification Date\n",
    "\n",
    "import os.path, time, pathlib\n",
    "\n",
    "file = pathlib.Path('task_python/filename.txt')\n",
    "print(\"Last modification time: %s\" % time.ctime(os.path.getmtime(file)))\n",
    "print(\"Last metadata change time or path creation time: %s\" % time.ctime(os.path.getctime(file)))"
   ]
  },
  {
   "cell_type": "code",
   "execution_count": 6,
   "id": "25ed87b7-9dbd-4cb5-bdd8-30a6318d33bb",
   "metadata": {},
   "outputs": [
    {
     "name": "stdout",
     "output_type": "stream",
     "text": [
      "1102213211_TantoWijaya\n",
      "A:\\AAA\\Jupyter\\task_python\n",
      "A:\\AAA\\Jupyter\n"
     ]
    }
   ],
   "source": [
    "print('1102213211_TantoWijaya')\n",
    "# Example Number 86: Get the Full Path of the Current Working Directory\n",
    "\n",
    "import pathlib\n",
    "\n",
    "# path of the given file\n",
    "print(pathlib.Path(\"task_python/filename.txt\").parent.absolute())\n",
    "\n",
    "# current working directory\n",
    "print(pathlib.Path().absolute())"
   ]
  },
  {
   "cell_type": "code",
   "execution_count": 7,
   "id": "04c399d4-c895-4276-b679-9e7129eb91de",
   "metadata": {},
   "outputs": [
    {
     "name": "stdout",
     "output_type": "stream",
     "text": [
      "1102213211_TantoWijaya\n",
      "1 a\n",
      "2 b\n",
      "3 c\n"
     ]
    }
   ],
   "source": [
    "print('1102213211_TantoWijaya')\n",
    "# Example Number 87: Iterate Through Two Lists in Parallel\n",
    "\n",
    "list_1 = [1, 2, 3, 4]\n",
    "list_2 = ['a', 'b', 'c']\n",
    "\n",
    "for i, j in zip(list_1, list_2):\n",
    "    print(i, j)"
   ]
  },
  {
   "cell_type": "code",
   "execution_count": 8,
   "id": "01c6843b-179b-4009-a97b-3d0fc03ce9a3",
   "metadata": {},
   "outputs": [
    {
     "name": "stdout",
     "output_type": "stream",
     "text": [
      "1102213211_TantoWijaya\n",
      "65\n"
     ]
    }
   ],
   "source": [
    "print('1102213211_TantoWijaya')\n",
    "# Example Number 88: Check the File Size\n",
    "\n",
    "import os\n",
    "\n",
    "file_stat = os.stat('task_python/filename.txt')\n",
    "print(file_stat.st_size)"
   ]
  },
  {
   "cell_type": "code",
   "execution_count": 11,
   "id": "b06cf30d-3cca-4560-9e45-9a4abf88ec5d",
   "metadata": {},
   "outputs": [
    {
     "name": "stdout",
     "output_type": "stream",
     "text": [
      "1102213211_TantoWijaya\n",
      "Reversed Number: 45678\n",
      "654321\n"
     ]
    }
   ],
   "source": [
    "print('1102213211_TantoWijaya')\n",
    "# Example Number 89: Reverse a Number\n",
    "\n",
    "# using a while loop\n",
    "num = 87654\n",
    "reversed_num = 0\n",
    "\n",
    "while num != 0:\n",
    "    digit = num % 10\n",
    "    reversed_num = reversed_num * 10 + digit\n",
    "    num //= 10\n",
    "\n",
    "print(\"Reversed Number: \" + str(reversed_num))\n",
    "\n",
    "# using string slicing\n",
    "num2 = 123456\n",
    "print(str(num2)[::-1])"
   ]
  },
  {
   "cell_type": "code",
   "execution_count": 12,
   "id": "598f56f1-5825-48f5-b07e-ef751e281fa5",
   "metadata": {},
   "outputs": [
    {
     "name": "stdout",
     "output_type": "stream",
     "text": [
      "1102213211_TantoWijaya\n",
      "Answer = 81\n"
     ]
    }
   ],
   "source": [
    "print('1102213211_TantoWijaya')\n",
    "# Example Number 90: Compute the Power of a Number\n",
    "\n",
    "base = 3\n",
    "exponent = 4\n",
    "\n",
    "result = 1\n",
    "\n",
    "while exponent != 0:\n",
    "    result *= base\n",
    "    exponent-=1\n",
    "\n",
    "print(\"Answer = \" + str(result))"
   ]
  },
  {
   "cell_type": "code",
   "execution_count": 13,
   "id": "6accb369-1656-4216-bfe7-8d2a523a0481",
   "metadata": {},
   "outputs": [
    {
     "name": "stdout",
     "output_type": "stream",
     "text": [
      "1102213211_TantoWijaya\n",
      "Number of digits: 4\n"
     ]
    }
   ],
   "source": [
    "print('1102213211_TantoWijaya')\n",
    "# Example Number 91: Count the Number of Digits Present In a Number\n",
    "\n",
    "num = 3452\n",
    "count = 0\n",
    "\n",
    "while num != 0:\n",
    "    num //= 10\n",
    "    count += 1\n",
    "\n",
    "print(\"Number of digits: \" + str(count))"
   ]
  },
  {
   "cell_type": "code",
   "execution_count": 14,
   "id": "230bffca-9bd0-4b3a-bcdc-64a03d5ece04",
   "metadata": {},
   "outputs": [
    {
     "name": "stdout",
     "output_type": "stream",
     "text": [
      "1102213211_TantoWijaya\n",
      "race and care are anagram.\n"
     ]
    }
   ],
   "source": [
    "print('1102213211_TantoWijaya')\n",
    "# Example Number 92: Check If Two Strings are Anagram\n",
    "\n",
    "str1 = \"Race\"\n",
    "str2 = \"Care\"\n",
    "\n",
    "# convert both the strings into lowercase\n",
    "str1 = str1.lower()\n",
    "str2 = str2.lower()\n",
    "\n",
    "# check if length is same\n",
    "if(len(str1) == len(str2)):\n",
    "\n",
    "    # sort the strings\n",
    "    sorted_str1 = sorted(str1)\n",
    "    sorted_str2 = sorted(str2)\n",
    "\n",
    "    # if sorted char arrays are same\n",
    "    if(sorted_str1 == sorted_str2):\n",
    "        print(str1 + \" and \" + str2 + \" are anagram.\")\n",
    "    else:\n",
    "        print(str1 + \" and \" + str2 + \" are not anagram.\")\n",
    "\n",
    "else:\n",
    "    print(str1 + \" and \" + str2 + \" are not anagram.\")"
   ]
  },
  {
   "cell_type": "code",
   "execution_count": 16,
   "id": "0c46154d-dc55-4814-85c4-ca5b1cbb159e",
   "metadata": {},
   "outputs": [
    {
     "name": "stdout",
     "output_type": "stream",
     "text": [
      "1102213211_TantoWijaya\n",
      "Tugas pemrograman python\n"
     ]
    }
   ],
   "source": [
    "print('1102213211_TantoWijaya')\n",
    "# Example Number 93: Capitalize the First Character of a String\n",
    "\n",
    "my_string = \"tugas pemrograman python\"\n",
    "print(my_string[0].upper() + my_string[1:])"
   ]
  },
  {
   "cell_type": "code",
   "execution_count": 18,
   "id": "79ecb3b3-d16e-4a46-a0da-fb7a6691e178",
   "metadata": {},
   "outputs": [
    {
     "name": "stdout",
     "output_type": "stream",
     "text": [
      "1102213211_TantoWijaya\n",
      "twjy\n",
      "twyj\n",
      "tjwy\n",
      "tjyw\n",
      "tyjw\n",
      "tywj\n",
      "wtjy\n",
      "wtyj\n",
      "wjty\n",
      "wjyt\n",
      "wyjt\n",
      "wytj\n",
      "jwty\n",
      "jwyt\n",
      "jtwy\n",
      "jtyw\n",
      "jytw\n",
      "jywt\n",
      "ywjt\n",
      "ywtj\n",
      "yjwt\n",
      "yjtw\n",
      "ytjw\n",
      "ytwj\n",
      "None\n"
     ]
    }
   ],
   "source": [
    "print('1102213211_TantoWijaya')\n",
    "# Example Number 94: Compute all the Permutation of the String\n",
    "\n",
    "def get_permutation(string, i=0):\n",
    "\n",
    "    if i == len(string):   \t \n",
    "        print(\"\".join(string))\n",
    "\n",
    "    for j in range(i, len(string)):\n",
    "\n",
    "        words = [c for c in string]\n",
    "   \n",
    "        # swap\n",
    "        words[i], words[j] = words[j], words[i]\n",
    "   \t \n",
    "        get_permutation(words, i + 1)\n",
    "\n",
    "print(get_permutation('twjy'))"
   ]
  },
  {
   "cell_type": "code",
   "execution_count": 20,
   "id": "a953421f-9362-4948-87d0-70d22a26b681",
   "metadata": {},
   "outputs": [
    {
     "name": "stdout",
     "output_type": "stream",
     "text": [
      "1102213211_TantoWijaya\n",
      "stop1\n"
     ]
    }
   ],
   "source": [
    "print('1102213211_TantoWijaya')\n",
    "# Example Number 95: Create a Countdown Timer\n",
    "\n",
    "import time\n",
    "\n",
    "def countdown(time_sec):\n",
    "    while time_sec:\n",
    "        mins, secs = divmod(time_sec, 60)\n",
    "        timeformat = '{:02d}:{:02d}'.format(mins, secs)\n",
    "        print(timeformat, end='\\r')\n",
    "        time.sleep(1)\n",
    "        time_sec -= 1\n",
    "\n",
    "    print(\"stop\")\n",
    "\n",
    "countdown(8)"
   ]
  },
  {
   "cell_type": "code",
   "execution_count": 22,
   "id": "0cb26938-4556-4344-9a52-4919f5332d25",
   "metadata": {},
   "outputs": [
    {
     "name": "stdout",
     "output_type": "stream",
     "text": [
      "1102213211_TantoWijaya\n",
      "3\n"
     ]
    }
   ],
   "source": [
    "print('1102213211_TantoWijaya')\n",
    "# Example Number 96: Count the Number of Occurrence of a Character in String\n",
    "\n",
    "count = 0\n",
    "\n",
    "my_string = \"tantowijaya\"\n",
    "my_char = \"a\"\n",
    "\n",
    "for i in my_string:\n",
    "    if i == my_char:\n",
    "        count += 1\n",
    "\n",
    "print(count)"
   ]
  },
  {
   "cell_type": "code",
   "execution_count": 23,
   "id": "9564735c-7ad3-4747-af13-85b87e908e33",
   "metadata": {},
   "outputs": [
    {
     "name": "stdout",
     "output_type": "stream",
     "text": [
      "1102213211_TantoWijaya\n",
      "[1, 2, 4, 6]\n"
     ]
    }
   ],
   "source": [
    "print('1102213211_TantoWijaya')\n",
    "# Example Number 97: Remove Duplicate Element From a List\n",
    "\n",
    "list_1 = [1, 2, 1, 4, 6]\n",
    "print(list(set(list_1)))"
   ]
  },
  {
   "cell_type": "code",
   "execution_count": 25,
   "id": "ac6c69b7-09ea-42fd-ba7d-9246891e17ef",
   "metadata": {},
   "outputs": [
    {
     "name": "stdout",
     "output_type": "stream",
     "text": [
      "1102213211_TantoWijaya\n",
      "Selesai ✅\n"
     ]
    }
   ],
   "source": [
    "print('1102213211_TantoWijaya')\n",
    "# Example Number 98: Convert Bytes to a String\n",
    "\n",
    "print(b'Selesai \\xE2\\x9C\\x85'.decode(\"utf-8\"))"
   ]
  }
 ],
 "metadata": {
  "kernelspec": {
   "display_name": "Python 3 (ipykernel)",
   "language": "python",
   "name": "python3"
  },
  "language_info": {
   "codemirror_mode": {
    "name": "ipython",
    "version": 3
   },
   "file_extension": ".py",
   "mimetype": "text/x-python",
   "name": "python",
   "nbconvert_exporter": "python",
   "pygments_lexer": "ipython3",
   "version": "3.11.4"
  }
 },
 "nbformat": 4,
 "nbformat_minor": 5
}
