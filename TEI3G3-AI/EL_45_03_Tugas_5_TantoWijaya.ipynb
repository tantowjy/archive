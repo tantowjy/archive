{
 "cells": [
  {
   "cell_type": "code",
   "execution_count": 1,
   "metadata": {
    "colab": {
     "base_uri": "https://localhost:8080/"
    },
    "id": "sfAGuQbpFZSL",
    "outputId": "4547c938-efe4-4964-f418-2dcf1b20c988"
   },
   "outputs": [
    {
     "name": "stdout",
     "output_type": "stream",
     "text": [
      "NIM : 1102213211\n",
      "Nama: Tanto Wijaya\n",
      "PROBLEM 1\n",
      "Input        : [0, 1, 2, 3]\n",
      "Target Output: [0, 3, 5, 7]\n",
      "Bobot terbaik adalah 2.22\n",
      "Input: 2, Predicted Output: 4.78\n"
     ]
    }
   ],
   "source": [
    "# Identitas Mahasiswa\n",
    "print(\"NIM : 1102213211\")\n",
    "print(\"Nama: Tanto Wijaya\")\n",
    "print(\"PROBLEM 1\")\n",
    "\n",
    "import random\n",
    "\n",
    "# Inisialisasi bobot dan bias secara acak\n",
    "w = random.uniform(0, 1)\n",
    "b = random.uniform(0, 1)\n",
    "learning_rate = 0.1\n",
    "epochs = 100\n",
    "\n",
    "# Data training\n",
    "inputs = [0, 1, 2, 3]\n",
    "targets = [0, 3, 5, 7]\n",
    "\n",
    "# Fungsi aktivasi perceptron\n",
    "def perceptron(input):\n",
    "    return input * w + b\n",
    "\n",
    "# Pelatihan perceptron\n",
    "for epoch in range(epochs):\n",
    "    for i in range(len(inputs)):\n",
    "        input_data = inputs[i]\n",
    "        target = targets[i]\n",
    "\n",
    "        # Hitung output perceptron\n",
    "        output = perceptron(input_data)\n",
    "\n",
    "        # Hitung error\n",
    "        error = target - output\n",
    "\n",
    "        # Update bobot dan bias\n",
    "        w += learning_rate * error * input_data\n",
    "        b += learning_rate * error\n",
    "\n",
    "# Print input dan target output\n",
    "print(\"Input        :\", inputs)\n",
    "print(\"Target Output:\", targets)\n",
    "\n",
    "# Bobot weight terbaik\n",
    "print('Bobot terbaik adalah {:.2f}'.format(w))\n",
    "\n",
    "# Uji perceptron dengan data baru\n",
    "new_input = 2\n",
    "predicted_output = perceptron(new_input)\n",
    "print('Input: {}, Predicted Output: {:.2f}'.format(new_input, predicted_output))"
   ]
  },
  {
   "cell_type": "code",
   "execution_count": 2,
   "metadata": {
    "colab": {
     "base_uri": "https://localhost:8080/"
    },
    "id": "0PlifwjVmK9G",
    "outputId": "083f431f-f983-4734-fc35-42b85b7e8ad0"
   },
   "outputs": [
    {
     "name": "stdout",
     "output_type": "stream",
     "text": [
      "NIM : 1102213211\n",
      "Nama: Tanto Wijaya\n",
      "PROBLEM 2\n",
      "Input        : [0, 1, 2, 3]\n",
      "Target Output: [0, -2, -4, -6]\n",
      "Bobot terbaik adalah -2.00\n",
      "Input: 3, Predicted Output: -6.00\n"
     ]
    }
   ],
   "source": [
    "# Identitas Mahasiswa\n",
    "print(\"NIM : 1102213211\")\n",
    "print(\"Nama: Tanto Wijaya\")\n",
    "print(\"PROBLEM 2\")\n",
    "\n",
    "import random\n",
    "\n",
    "# Inisialisasi bobot dan bias secara acak\n",
    "w = random.uniform(0, 1)\n",
    "b = random.uniform(0, 1)\n",
    "learning_rate = 0.1\n",
    "epochs = 100\n",
    "\n",
    "# Data training\n",
    "inputs = [0, 1, 2, 3]\n",
    "targets = [0, -2, -4, -6]\n",
    "\n",
    "# Fungsi aktivasi perceptron\n",
    "def perceptron(input):\n",
    "    return input * w + b\n",
    "\n",
    "# Pelatihan perceptron\n",
    "for epoch in range(epochs):\n",
    "    for i in range(len(inputs)):\n",
    "        input_data = inputs[i]\n",
    "        target = targets[i]\n",
    "\n",
    "        # Hitung output perceptron\n",
    "        output = perceptron(input_data)\n",
    "\n",
    "        # Hitung error\n",
    "        error = target - output\n",
    "\n",
    "        # Update bobot dan bias\n",
    "        w += learning_rate * error * input_data\n",
    "        b += learning_rate * error\n",
    "\n",
    "# Print input dan target output\n",
    "print(\"Input        :\", inputs)\n",
    "print(\"Target Output:\", targets)\n",
    "\n",
    "# Bobot weight terbaik\n",
    "print('Bobot terbaik adalah {:.2f}'.format(w))\n",
    "\n",
    "# Uji perceptron dengan data baru\n",
    "new_input = 3\n",
    "predicted_output = perceptron(new_input)\n",
    "print('Input: {}, Predicted Output: {:.2f}'.format(new_input, predicted_output))"
   ]
  }
 ],
 "metadata": {
  "colab": {
   "provenance": []
  },
  "kernelspec": {
   "display_name": "Python 3 (ipykernel)",
   "language": "python",
   "name": "python3"
  },
  "language_info": {
   "codemirror_mode": {
    "name": "ipython",
    "version": 3
   },
   "file_extension": ".py",
   "mimetype": "text/x-python",
   "name": "python",
   "nbconvert_exporter": "python",
   "pygments_lexer": "ipython3",
   "version": "3.11.4"
  }
 },
 "nbformat": 4,
 "nbformat_minor": 4
}
