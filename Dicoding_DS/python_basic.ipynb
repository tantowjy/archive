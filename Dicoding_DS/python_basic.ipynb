{
 "cells": [
  {
   "cell_type": "code",
   "execution_count": 1,
   "id": "6be51a01-4eda-4705-8ec9-bf893817a66d",
   "metadata": {},
   "outputs": [
    {
     "name": "stdout",
     "output_type": "stream",
     "text": [
      "Hello World\n"
     ]
    }
   ],
   "source": [
    "print(\"Hello World\")"
   ]
  },
  {
   "cell_type": "code",
   "execution_count": 2,
   "id": "09a42370-aebf-4e47-9f8d-1023db066085",
   "metadata": {},
   "outputs": [
    {
     "name": "stdout",
     "output_type": "stream",
     "text": [
      "2\n"
     ]
    }
   ],
   "source": [
    "addition = 2+2\n",
    "result = addition - 2\n",
    "print(result)"
   ]
  },
  {
   "cell_type": "code",
   "execution_count": 3,
   "id": "4042a4c7-b2ed-4260-9bfb-031bd69563fd",
   "metadata": {},
   "outputs": [
    {
     "name": "stdin",
     "output_type": "stream",
     "text": [
      "Enter name: Tanto Wijaya\n"
     ]
    },
    {
     "name": "stdout",
     "output_type": "stream",
     "text": [
      "Tanto Wijaya\n"
     ]
    }
   ],
   "source": [
    "name = input(\"Enter name:\")\n",
    "print(name)"
   ]
  },
  {
   "cell_type": "code",
   "execution_count": 8,
   "id": "ae63c305-6865-4c18-9d6c-4df340c1303d",
   "metadata": {},
   "outputs": [
    {
     "name": "stdout",
     "output_type": "stream",
     "text": [
      "96\n",
      "985026\n",
      "109237\n"
     ]
    }
   ],
   "source": [
    "var_list = [792564, 465231, 203748, 981037, 857219, 314092, 608345, 123907, 736890, 985026, \n",
    "179430, 450218, 680934, 543187, 978260, 283045, 617902, 405826, 820913, 731095, \n",
    "592403, 109237, 874956, 605132, 214978, 674519, 391047, 825160, 509317, 768490, \n",
    "950283, 307491, 487610, 532198, 605132, 160984, 609873, 245016, 879043, 734126, \n",
    "351809, 670594, 920873, 605132, 596410, 135890, 804512, 683420, 290753, 931560, \n",
    "175430, 950672, 378490, 284105, 746098, 503624, 605132, 167432, 974810, 519463, \n",
    "407835, 740326, 281709, 630921, 953284, 605132, 429731, 183607, 369012, 541380, \n",
    "605132, 217605, 496803, 827309, 153607, 605132, 720459, 381904, 594031, 810235, \n",
    "673925, 492157, 835096, 260481, 956024, 540329, 806295, 320158, 751903, 980465, \n",
    "235780, 857943, 605132, 125094, 620493, 913250\n",
    "]\n",
    "\n",
    "panjang = len(var_list)\n",
    "maksimal = max(var_list)\n",
    "minimal = min(var_list)\n",
    "\n",
    "print(panjang)\n",
    "print(maksimal)\n",
    "print(minimal)"
   ]
  },
  {
   "cell_type": "code",
   "execution_count": 21,
   "id": "71e49a07-835b-4115-9d7e-335f5bc08227",
   "metadata": {},
   "outputs": [
    {
     "ename": "IndentationError",
     "evalue": "expected an indented block after 'for' statement on line 2 (3400007402.py, line 3)",
     "output_type": "error",
     "traceback": [
      "\u001b[1;36m  Cell \u001b[1;32mIn[21], line 3\u001b[1;36m\u001b[0m\n\u001b[1;33m    print(i,j)\u001b[0m\n\u001b[1;37m    ^\u001b[0m\n\u001b[1;31mIndentationError\u001b[0m\u001b[1;31m:\u001b[0m expected an indented block after 'for' statement on line 2\n"
     ]
    }
   ],
   "source": [
    "for i in range(1, 3):    \n",
    "    for j in range(1, 3):    \n",
    "    print(i,j) "
   ]
  },
  {
   "cell_type": "code",
   "execution_count": null,
   "id": "ba90a6ea-aa7e-4fed-9380-de489ebf35db",
   "metadata": {},
   "outputs": [],
   "source": []
  }
 ],
 "metadata": {
  "kernelspec": {
   "display_name": "Python 3 (ipykernel)",
   "language": "python",
   "name": "python3"
  },
  "language_info": {
   "codemirror_mode": {
    "name": "ipython",
    "version": 3
   },
   "file_extension": ".py",
   "mimetype": "text/x-python",
   "name": "python",
   "nbconvert_exporter": "python",
   "pygments_lexer": "ipython3",
   "version": "3.11.4"
  }
 },
 "nbformat": 4,
 "nbformat_minor": 5
}
